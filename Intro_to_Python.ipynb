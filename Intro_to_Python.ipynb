{
  "nbformat": 4,
  "nbformat_minor": 0,
  "metadata": {
    "kernelspec": {
      "display_name": "Python 3",
      "language": "python",
      "name": "python3"
    },
    "language_info": {
      "codemirror_mode": {
        "name": "ipython",
        "version": 3
      },
      "file_extension": ".py",
      "mimetype": "text/x-python",
      "name": "python",
      "nbconvert_exporter": "python",
      "pygments_lexer": "ipython3",
      "version": "3.6.7"
    },
    "colab": {
      "provenance": [],
      "collapsed_sections": [
        "Q1Li-6NXKHxE",
        "EdY__e2-KHxH",
        "PhWJvnfXKHxM",
        "Q6PNjdFVKHxS",
        "uUlrB0bgKHxV",
        "Il770fobKHxm",
        "5xcxxLHfKHxp",
        "RcUesRiFKHxv",
        "vv1w2csQKHx7",
        "ApCfd1LCKHyv",
        "YX_3AkhcKHyy",
        "jFfWuxsoKHy4",
        "jkGhA5zyKHy5",
        "ROyl2HU1KHzA",
        "JDHD5JweKHzH",
        "sziTk4ELKHzK",
        "z3YzUFbCKHzS",
        "FErufRhVKHzU",
        "va9U6nKxKHzg",
        "EX-CCOV-KHzm",
        "vcfpj_TgKHzz",
        "e4TGTyC-KH0N",
        "5-CDhGJaKH1j"
      ],
      "toc_visible": true,
      "include_colab_link": true
    }
  },
  "cells": [
    {
      "cell_type": "markdown",
      "metadata": {
        "id": "view-in-github",
        "colab_type": "text"
      },
      "source": [
        "<a href=\"https://colab.research.google.com/github/mc2engel/afraid-to-commit/blob/master/Intro_to_Python.ipynb\" target=\"_parent\"><img src=\"https://colab.research.google.com/assets/colab-badge.svg\" alt=\"Open In Colab\"/></a>"
      ]
    },
    {
      "cell_type": "markdown",
      "metadata": {
        "id": "pKeMJV92KHwU"
      },
      "source": [
        "# Introduction to Python and Jupyter Notebook"
      ]
    },
    {
      "cell_type": "markdown",
      "metadata": {
        "id": "ciQVuUCnKHwV"
      },
      "source": [
        "This tutorial will introduce relevant python packages for this course and the web-based interactive python environment: Jupyter notebook. Coding examples will be given. Hope you find it helpful and like it!"
      ]
    },
    {
      "cell_type": "markdown",
      "metadata": {
        "id": "P98to9d-KHwW"
      },
      "source": [
        "<div class=\"alert alert-block alert-danger\">\n",
        "<b>Reminder:</b> This is <i> not </i> a highly numerical or coding-intense course. Python will be your good help throughout this course, but the essence of this course (in my opinion) is the following:\n",
        "</div>\n",
        "- finding and understanding limiting (asymptotic) behavior\n",
        "- using asymptotic behavior to solve questions (equations)\n",
        "- Some general techniques for solving hard questions (equations)\n"
      ]
    },
    {
      "cell_type": "markdown",
      "metadata": {
        "id": "peKGVe9sKHwW"
      },
      "source": [
        "This tutorial is hopefully suitable for beginners. If you are new to programming and find difficulties in understanding the two major examples at the end, please don't hesitate to let me know. I'll be glad to help you get on track quickly."
      ]
    },
    {
      "cell_type": "markdown",
      "metadata": {
        "id": "G03J7J2zKHwf"
      },
      "source": [
        "## I. Jupyter notebook"
      ]
    },
    {
      "cell_type": "markdown",
      "metadata": {
        "id": "chBACFNgKHwf"
      },
      "source": [
        "Jupyter Notebook (Formerly IPython Notebooks) is a web-based interactive computational environment for creating Jupyter notebooks documents."
      ]
    },
    {
      "cell_type": "markdown",
      "metadata": {
        "id": "3VGQTjnfKHwg"
      },
      "source": [
        "<div class=\"alert alert-block alert-info\">\n",
        "<b>Tip:</b> Cell has two major interchangeable types: <b> Code </b> and <b> Markdown </b> (excellent text editor)\n",
        "</div>"
      ]
    },
    {
      "cell_type": "markdown",
      "metadata": {
        "id": "FyDoUkeaKHwg"
      },
      "source": [
        "<div class=\"alert alert-block alert-info\">\n",
        "<b>Tip:</b> Double-click every Markdown cells in this tutorial to see features.\n",
        "</div>"
      ]
    },
    {
      "cell_type": "markdown",
      "metadata": {
        "id": "wxJGJY7nKHwh"
      },
      "source": [
        "### Markdown cells"
      ]
    },
    {
      "cell_type": "markdown",
      "metadata": {
        "id": "KksxaWGcKHwj"
      },
      "source": [
        "Before playing with python in these notebooks, I'd like to first introduce a huge convenience of Jupyter notebook which is it features Markdown cells, which is a text editor with various styles of text supported."
      ]
    },
    {
      "cell_type": "markdown",
      "metadata": {
        "id": "p7548B1TKHwj"
      },
      "source": [
        "**This** notebook itself is a Jupyter notebook. Please download it from \"Files\" in Canvas to your local computer and then upload it to your Jupyterhub. \n",
        "\n",
        "Then start playing!"
      ]
    },
    {
      "cell_type": "markdown",
      "metadata": {
        "id": "pLXybKITKHwk"
      },
      "source": [
        "#### Basic features"
      ]
    },
    {
      "cell_type": "markdown",
      "metadata": {
        "id": "M0Efh4jRKHwk"
      },
      "source": [
        "1. When you hit `esc`, then hit `m`, you turn the cell from code into Markdown. hit `esc` then `y` brings the cell back to codes.\n",
        "\n",
        "\n",
        "2. After typing, you should also hit `shift+return/enter` to turn Markdown cell into display. Also hit `shift+return/enter` to run codes\n",
        "\n",
        "\n",
        "3. When you hit `esc` then `1`, it gives you the 1st order title. Esc+2 is the 2nd order title and so on. Equivalently, after turning a cell into Markdown, you can type $n$ \"#\" and type your $n$th title after it.\n",
        "\n",
        "\n",
        "4. Enumeration is automatically styled. You'll see the text of an enumeration is blue before you hit shift+return.\n",
        "\n",
        "\n",
        "5. Compatible to latex style equations for both \"inline\" style and \"display\" style of latex. Example: $e^{i\\pi}+1=0$ $$e^{i\\pi}+1=0$$\n",
        "\n",
        "\n",
        "6. <b> Bold </b> and <i>Italic</i>\n",
        "\n",
        "\n",
        "7. To create a new cell, click \"+\" in the toolbar or hit `esc` then `b`\n",
        "\n",
        "\n",
        "8. To delete a cell, the quickest way is `esc` then `x`. This is cut option. You can use `esc` then `v` to paste it somewhere else\n",
        "\n",
        "\n",
        "9. For faster operation, hit `command (control)+shift+p` or click the keyboard icon in the toolbar to see shortcuts. (hitting esc enters the command mode)"
      ]
    },
    {
      "cell_type": "markdown",
      "metadata": {
        "id": "aRwyn4iQKHwl"
      },
      "source": [
        "Automatic styling of enumeration:"
      ]
    },
    {
      "cell_type": "markdown",
      "metadata": {
        "id": "KxwiEA7gKHwl"
      },
      "source": [
        "- Bullet 1\n",
        "    - Bullet 2\n",
        "        - Bullet 3"
      ]
    },
    {
      "cell_type": "markdown",
      "metadata": {
        "id": "Po57gNLBKHwm"
      },
      "source": [
        "1. Point 1\n",
        "    1. Point 1.1\n",
        "        1. Point 1.1.1"
      ]
    },
    {
      "cell_type": "markdown",
      "metadata": {
        "id": "xLpjk8VnKHwm"
      },
      "source": [
        "<u> Summary of shortcuts </u>\n",
        "\n",
        "- `esc` + `b`: Create new cell below\n",
        "- `esc` + `m`: Change cell to Markdown\n",
        "- `esc` + `y`: Change cell to Code\n",
        "- `esc` + `dd`: Delete cell (The description in the command palette is amazingly misleading..)\n",
        "- `esc` + `z`: Undo cell deletion\n",
        "- `esc` + `x`: Cut cell\n",
        "- `esc` + `v`: Paste cell\n",
        "- `shift` + `return`: Run a cell\n",
        "- `esc` + `ii`: Kill a running cell (To complecated, or infinite loop)\n",
        "- `esc` + `f`: Find and replace\n",
        "- `esc` + `1-4`: Creating titles level 1 to 5 \n",
        "- ..."
      ]
    },
    {
      "cell_type": "markdown",
      "metadata": {
        "id": "3lO0bm0tKHwn"
      },
      "source": [
        "#### Code illustration"
      ]
    },
    {
      "cell_type": "markdown",
      "metadata": {
        "id": "tsNG2mrtKHwo"
      },
      "source": [
        "Double-click cell below to see code. It can be easily turn into runable codes by changing the cell type to Code and delete the first and the last line."
      ]
    },
    {
      "cell_type": "markdown",
      "metadata": {
        "id": "XEwvLJjjKHwo"
      },
      "source": [
        "\n",
        "print(\"Hello World\")\n",
        "\n"
      ]
    },
    {
      "cell_type": "markdown",
      "metadata": {
        "id": "ncMPA_KEKHwp"
      },
      "source": [
        "# Title 1\n",
        "## Title 2\n",
        "### Title 3\n",
        "#### Title 4\n",
        "##### Title 5"
      ]
    },
    {
      "cell_type": "markdown",
      "metadata": {
        "id": "69FYtZkjKHwp"
      },
      "source": [
        "### Doing python in Jupyter notebooks"
      ]
    },
    {
      "cell_type": "markdown",
      "metadata": {
        "id": "xpRDP-cmKHwq"
      },
      "source": [
        "If you are a Mathematica user you are automatically familiar with jupyter notebooks. Just type as many lines of python codes in a cell as you like and hit `shift+enter/return`. In short, Jupyter notebooks\n",
        "\n",
        "1. Evaluate individual cell at a time\n",
        "2. Considers every cell evaluated previously when evaluating a new cell"
      ]
    },
    {
      "cell_type": "code",
      "metadata": {
        "id": "riRL0DCMKHwr",
        "colab": {
          "base_uri": "https://localhost:8080/",
          "height": 34
        },
        "outputId": "0b811403-7e07-47a4-de51-297cb5a6ab05"
      },
      "source": [
        "a=1.3 # don't have to declare\n",
        "a+5"
      ],
      "execution_count": null,
      "outputs": [
        {
          "output_type": "execute_result",
          "data": {
            "text/plain": [
              "6.3"
            ]
          },
          "metadata": {
            "tags": []
          },
          "execution_count": 2
        }
      ]
    },
    {
      "cell_type": "markdown",
      "metadata": {
        "id": "zBcLPbmyKHww"
      },
      "source": [
        "If one of your code sentence is longer than a line, use `\\`"
      ]
    },
    {
      "cell_type": "code",
      "metadata": {
        "id": "4nyVb5CAKHwx",
        "colab": {
          "base_uri": "https://localhost:8080/",
          "height": 130
        },
        "outputId": "4301e9bf-9c80-4a54-8ff8-46b4cff3309a"
      },
      "source": [
        "1+\n",
        "1"
      ],
      "execution_count": null,
      "outputs": [
        {
          "output_type": "error",
          "ename": "SyntaxError",
          "evalue": "ignored",
          "traceback": [
            "\u001b[0;36m  File \u001b[0;32m\"<ipython-input-3-0a97f642cfb2>\"\u001b[0;36m, line \u001b[0;32m1\u001b[0m\n\u001b[0;31m    1+\u001b[0m\n\u001b[0m      ^\u001b[0m\n\u001b[0;31mSyntaxError\u001b[0m\u001b[0;31m:\u001b[0m invalid syntax\n"
          ]
        }
      ]
    },
    {
      "cell_type": "code",
      "metadata": {
        "id": "IlfcnNjIKHwz",
        "colab": {
          "base_uri": "https://localhost:8080/",
          "height": 34
        },
        "outputId": "be5a0986-b0d5-4752-c79b-e4653226ace2"
      },
      "source": [
        "1+ \\\n",
        "1"
      ],
      "execution_count": null,
      "outputs": [
        {
          "output_type": "execute_result",
          "data": {
            "text/plain": [
              "2"
            ]
          },
          "metadata": {
            "tags": []
          },
          "execution_count": 4
        }
      ]
    },
    {
      "cell_type": "markdown",
      "metadata": {
        "id": "kyAMiWAuKHw2"
      },
      "source": [
        "<div class=\"alert alert-block alert-info\">\n",
        "<b>Tip:</b> If you forgot a particular usage/structure/syntax, Google it or look for the help documents\n",
        "</div>"
      ]
    },
    {
      "cell_type": "code",
      "metadata": {
        "id": "VWbYTwDdKHw2",
        "colab": {
          "base_uri": "https://localhost:8080/",
          "height": 1000
        },
        "outputId": "ff73c53b-1c3b-412a-f7f7-b60e0f568045"
      },
      "source": [
        "help(list)"
      ],
      "execution_count": null,
      "outputs": [
        {
          "output_type": "stream",
          "text": [
            "Help on class list in module builtins:\n",
            "\n",
            "class list(object)\n",
            " |  list() -> new empty list\n",
            " |  list(iterable) -> new list initialized from iterable's items\n",
            " |  \n",
            " |  Methods defined here:\n",
            " |  \n",
            " |  __add__(self, value, /)\n",
            " |      Return self+value.\n",
            " |  \n",
            " |  __contains__(self, key, /)\n",
            " |      Return key in self.\n",
            " |  \n",
            " |  __delitem__(self, key, /)\n",
            " |      Delete self[key].\n",
            " |  \n",
            " |  __eq__(self, value, /)\n",
            " |      Return self==value.\n",
            " |  \n",
            " |  __ge__(self, value, /)\n",
            " |      Return self>=value.\n",
            " |  \n",
            " |  __getattribute__(self, name, /)\n",
            " |      Return getattr(self, name).\n",
            " |  \n",
            " |  __getitem__(...)\n",
            " |      x.__getitem__(y) <==> x[y]\n",
            " |  \n",
            " |  __gt__(self, value, /)\n",
            " |      Return self>value.\n",
            " |  \n",
            " |  __iadd__(self, value, /)\n",
            " |      Implement self+=value.\n",
            " |  \n",
            " |  __imul__(self, value, /)\n",
            " |      Implement self*=value.\n",
            " |  \n",
            " |  __init__(self, /, *args, **kwargs)\n",
            " |      Initialize self.  See help(type(self)) for accurate signature.\n",
            " |  \n",
            " |  __iter__(self, /)\n",
            " |      Implement iter(self).\n",
            " |  \n",
            " |  __le__(self, value, /)\n",
            " |      Return self<=value.\n",
            " |  \n",
            " |  __len__(self, /)\n",
            " |      Return len(self).\n",
            " |  \n",
            " |  __lt__(self, value, /)\n",
            " |      Return self<value.\n",
            " |  \n",
            " |  __mul__(self, value, /)\n",
            " |      Return self*value.\n",
            " |  \n",
            " |  __ne__(self, value, /)\n",
            " |      Return self!=value.\n",
            " |  \n",
            " |  __new__(*args, **kwargs) from builtins.type\n",
            " |      Create and return a new object.  See help(type) for accurate signature.\n",
            " |  \n",
            " |  __repr__(self, /)\n",
            " |      Return repr(self).\n",
            " |  \n",
            " |  __reversed__(...)\n",
            " |      L.__reversed__() -- return a reverse iterator over the list\n",
            " |  \n",
            " |  __rmul__(self, value, /)\n",
            " |      Return value*self.\n",
            " |  \n",
            " |  __setitem__(self, key, value, /)\n",
            " |      Set self[key] to value.\n",
            " |  \n",
            " |  __sizeof__(...)\n",
            " |      L.__sizeof__() -- size of L in memory, in bytes\n",
            " |  \n",
            " |  append(...)\n",
            " |      L.append(object) -> None -- append object to end\n",
            " |  \n",
            " |  clear(...)\n",
            " |      L.clear() -> None -- remove all items from L\n",
            " |  \n",
            " |  copy(...)\n",
            " |      L.copy() -> list -- a shallow copy of L\n",
            " |  \n",
            " |  count(...)\n",
            " |      L.count(value) -> integer -- return number of occurrences of value\n",
            " |  \n",
            " |  extend(...)\n",
            " |      L.extend(iterable) -> None -- extend list by appending elements from the iterable\n",
            " |  \n",
            " |  index(...)\n",
            " |      L.index(value, [start, [stop]]) -> integer -- return first index of value.\n",
            " |      Raises ValueError if the value is not present.\n",
            " |  \n",
            " |  insert(...)\n",
            " |      L.insert(index, object) -- insert object before index\n",
            " |  \n",
            " |  pop(...)\n",
            " |      L.pop([index]) -> item -- remove and return item at index (default last).\n",
            " |      Raises IndexError if list is empty or index is out of range.\n",
            " |  \n",
            " |  remove(...)\n",
            " |      L.remove(value) -> None -- remove first occurrence of value.\n",
            " |      Raises ValueError if the value is not present.\n",
            " |  \n",
            " |  reverse(...)\n",
            " |      L.reverse() -- reverse *IN PLACE*\n",
            " |  \n",
            " |  sort(...)\n",
            " |      L.sort(key=None, reverse=False) -> None -- stable sort *IN PLACE*\n",
            " |  \n",
            " |  ----------------------------------------------------------------------\n",
            " |  Data and other attributes defined here:\n",
            " |  \n",
            " |  __hash__ = None\n",
            "\n"
          ],
          "name": "stdout"
        }
      ]
    },
    {
      "cell_type": "markdown",
      "metadata": {
        "id": "atwXEVYmKHw5"
      },
      "source": [
        "Or even simpler: execute with a \"?\""
      ]
    },
    {
      "cell_type": "code",
      "metadata": {
        "id": "vlTx9RtzKHw5"
      },
      "source": [
        "list?"
      ],
      "execution_count": null,
      "outputs": []
    },
    {
      "cell_type": "markdown",
      "metadata": {
        "id": "nowxAH59KHw9"
      },
      "source": [
        "## II. Core python language"
      ]
    },
    {
      "cell_type": "markdown",
      "metadata": {
        "id": "JUKtZlY_KHw-"
      },
      "source": [
        "(Python official tutorial: https://docs.python.org/3/tutorial/)"
      ]
    },
    {
      "cell_type": "markdown",
      "metadata": {
        "id": "jeM9ybclKHxA"
      },
      "source": [
        "Python is a high-level, dynamically typed multiparadigm programming language. Python code is often said to be almost like pseudocode, since it allows you to express very powerful ideas in very few lines of code while being very readable. As an example, here is an implementation of the classic <b> quicksort </b> algorithm in Python. You might be impressed by its high readability:"
      ]
    },
    {
      "cell_type": "markdown",
      "metadata": {
        "id": "u0ktqPH4KHxC"
      },
      "source": [
        "```python\n",
        "def quicksort(numlist): # numlist is a list of unsorted numbers to be sorted\n",
        "    if len(numlist) <= 1:\n",
        "        return numlist # If length smaller than 1, arr is already sorted\n",
        "    pivot = numlist[len(numlist) // 2] # // gives the ceiling integer. 11//2=5\n",
        "    left = [x for x in numlist if x < pivot] # like \"for x in numlist, if x<pivot, collect x into a list 'left'\"\n",
        "    middle = [x for x in numlist if x == pivot]\n",
        "    right = [x for x in numlist if x > pivot]\n",
        "    return quicksort(left) + middle + quicksort(right) # recursively sort\n",
        "\n",
        "print(quicksort([3,6,8,10,1,2,1]))\n",
        "# Prints \"[1, 1, 2, 3, 6, 8, 10]\"\n",
        "```"
      ]
    },
    {
      "cell_type": "markdown",
      "metadata": {
        "id": "KgDepVfLKHxD"
      },
      "source": [
        "<div class=\"alert alert-block alert-info\">\n",
        "<b>Tip:</b> Here `quicksort()` is a function, `numlist` is a list of numbers provided when invoking this function. Functions in python are defined in a similar way as in other languages.\n",
        "</div>"
      ]
    },
    {
      "cell_type": "markdown",
      "metadata": {
        "id": "khKCOlVHKHxD"
      },
      "source": [
        "By just reading it in the sense of reading English, we already can summarize the quicksort algorithm:\n",
        "\n",
        "- For an unsorted array <i> arr </i>, choose the number currently at middle position as a reference \"pivot\"\n",
        "- Use lists <i> left </i>, <i> middle </i> and <i> right </i> to collect numbers that are smaller than, equal to, and larger than pivot.\n",
        "- Sort the original list into (left)+(middle)+(right) form.\n",
        "- Apply above procedure to <i> left </i> and <i> right </i> recursively"
      ]
    },
    {
      "cell_type": "markdown",
      "metadata": {
        "id": "7hORsTg_KHxE"
      },
      "source": [
        "The major contribution to the readability in the above example is the <b> list comprehension</b> technique. We will give more examples about this elegant technique later."
      ]
    },
    {
      "cell_type": "markdown",
      "metadata": {
        "id": "Q1Li-6NXKHxE"
      },
      "source": [
        "### Python versions"
      ]
    },
    {
      "cell_type": "markdown",
      "metadata": {
        "id": "JytjubhcKHxE"
      },
      "source": [
        "There are currently two different supported versions of Python, 2.7 and 3.x (currently 3.7). Little incompatibilities (such as the print function) exist between python 2 and 3. For this course we'll all use python 3.x. \n",
        "\n",
        "\n",
        "Let's check the system version first"
      ]
    },
    {
      "cell_type": "code",
      "metadata": {
        "id": "ulDFNBrJKHxF",
        "colab": {
          "base_uri": "https://localhost:8080/",
          "height": 35
        },
        "outputId": "8190e5e8-d539-4a97-943f-cfb09b691fb8"
      },
      "source": [
        "import sys\n",
        "sys.version"
      ],
      "execution_count": null,
      "outputs": [
        {
          "output_type": "execute_result",
          "data": {
            "application/vnd.google.colaboratory.intrinsic+json": {
              "type": "string"
            },
            "text/plain": [
              "'3.6.9 (default, Jul 17 2020, 12:50:27) \\n[GCC 8.4.0]'"
            ]
          },
          "metadata": {
            "tags": []
          },
          "execution_count": 12
        }
      ]
    },
    {
      "cell_type": "markdown",
      "metadata": {
        "id": "EdY__e2-KHxH"
      },
      "source": [
        "### Basic data types"
      ]
    },
    {
      "cell_type": "markdown",
      "metadata": {
        "id": "NaAiRRSEKHxI"
      },
      "source": [
        "Like most languages, Python has a number of basic types including integers, floats, booleans, and strings. These data types behave in ways that are familiar from other programming languages."
      ]
    },
    {
      "cell_type": "markdown",
      "metadata": {
        "id": "kcLwXEuYKHxI"
      },
      "source": [
        "<div class=\"alert alert-block alert-info\">\n",
        "<b>Tip:</b> Variables don't have to be declared before use.\n",
        "</div>"
      ]
    },
    {
      "cell_type": "markdown",
      "metadata": {
        "id": "Myy5rZGoKHxI"
      },
      "source": [
        "<b>Numbers:</b> Integers and floats work as you would expect from other languages:"
      ]
    },
    {
      "cell_type": "markdown",
      "metadata": {
        "id": "7DURCFUhKHxJ"
      },
      "source": [
        "```python\n",
        "x = 3\n",
        "print(type(x)) # Prints \"<class 'int'>\"\n",
        "print(x)       # Prints \"3\"\n",
        "print(x + 1)   # Addition; prints \"4\"\n",
        "print(x - 1)   # Subtraction; prints \"2\"\n",
        "print(x * 2)   # Multiplication; prints \"6\"\n",
        "print(x ** 2)  # Exponentiation; prints \"9\"\n",
        "x += 1\n",
        "print(x)  # Prints \"4\"\n",
        "x *= 2\n",
        "print(x)  # Prints \"8\"\n",
        "y = 2.5\n",
        "print(type(y)) # Prints \"<class 'float'>\"\n",
        "print(y, y + 1, y * 2, y ** 2) # Prints \"2.5 3.5 5.0 6.25\"\n",
        "```"
      ]
    },
    {
      "cell_type": "markdown",
      "metadata": {
        "id": "We764Vw5KHxJ"
      },
      "source": [
        "<b>Booleans</b>: Python implements all of the usual operators for Boolean logic, but uses <b>English words</b> rather than symbols (&&, || in Mathematica):"
      ]
    },
    {
      "cell_type": "markdown",
      "metadata": {
        "id": "sBGSchRqKHxL"
      },
      "source": [
        "```python \n",
        "t = True\n",
        "f = False\n",
        "print(type(t)) # Prints \"<class 'bool'>\"\n",
        "print(t and f) # Logical AND; prints \"False\"\n",
        "print(t or f)  # Logical OR; prints \"True\"\n",
        "print(not t)   # Logical NOT; prints \"False\"\n",
        "print(t != f)  # Logical XOR; prints \"True\"\n",
        "```"
      ]
    },
    {
      "cell_type": "markdown",
      "metadata": {
        "id": "PhWJvnfXKHxM"
      },
      "source": [
        "#### Operations"
      ]
    },
    {
      "cell_type": "markdown",
      "metadata": {
        "id": "C3T9sdNHKHxM"
      },
      "source": [
        "Close to matlab. `*` for product should be explicitly written. However things like `a:b:c` for creating arrays in MATLAB are not supported in python."
      ]
    },
    {
      "cell_type": "markdown",
      "metadata": {
        "id": "vWtbSTLHKHxM"
      },
      "source": [
        "<div class=\"alert alert-block alert-warning\">\n",
        "<b>Warning:</b> No `a++ a--` are allowed\n",
        "</div>"
      ]
    },
    {
      "cell_type": "code",
      "metadata": {
        "id": "L2tgX1_2KHxN",
        "outputId": "aa524530-e509-46b7-847e-37e876d57548"
      },
      "source": [
        "x=1;\n",
        "x++"
      ],
      "execution_count": null,
      "outputs": [
        {
          "output_type": "error",
          "ename": "SyntaxError",
          "evalue": "invalid syntax (<ipython-input-6-c9caa46d2a81>, line 2)",
          "traceback": [
            "\u001b[0;36m  File \u001b[0;32m\"<ipython-input-6-c9caa46d2a81>\"\u001b[0;36m, line \u001b[0;32m2\u001b[0m\n\u001b[0;31m    x++\u001b[0m\n\u001b[0m       ^\u001b[0m\n\u001b[0;31mSyntaxError\u001b[0m\u001b[0;31m:\u001b[0m invalid syntax\n"
          ]
        }
      ]
    },
    {
      "cell_type": "markdown",
      "metadata": {
        "id": "HKvgNl6iKHxS"
      },
      "source": [
        "<div class=\"alert alert-block alert-info\">\n",
        "<b>Tip:</b> Use `**` for exponentials. `^` does a \"bitwise exclusive or\"\n",
        "</div>"
      ]
    },
    {
      "cell_type": "markdown",
      "metadata": {
        "id": "1JK8RBPoKHxS"
      },
      "source": [
        "You'll be familiar with basic data types quickly after you read and write some sample codes."
      ]
    },
    {
      "cell_type": "markdown",
      "metadata": {
        "id": "Q6PNjdFVKHxS"
      },
      "source": [
        "### Containers"
      ]
    },
    {
      "cell_type": "markdown",
      "metadata": {
        "id": "giSyj5H8KHxT"
      },
      "source": [
        "Python includes several built-in container types: lists, dictionaries, sets, and tuples. <b> Lists and NumPy arrays </b> are widely used in this course. "
      ]
    },
    {
      "cell_type": "markdown",
      "metadata": {
        "id": "S12F5tKMKHxU"
      },
      "source": [
        "Dictionaries: `key` + `value` pairs. Will see an example later."
      ]
    },
    {
      "cell_type": "markdown",
      "metadata": {
        "id": "tZJ9x9xyKHxU"
      },
      "source": [
        "Sets: similar to lists but contain no identical elements. `{1,2,3}`"
      ]
    },
    {
      "cell_type": "markdown",
      "metadata": {
        "id": "zcPOvOrHKHxV"
      },
      "source": [
        "Tuples: also similar to lists and sets. Immutable. `(1,2,3)`"
      ]
    },
    {
      "cell_type": "markdown",
      "metadata": {
        "id": "uUlrB0bgKHxV"
      },
      "source": [
        "#### Lists"
      ]
    },
    {
      "cell_type": "markdown",
      "metadata": {
        "id": "LrqjqWnnKHxW"
      },
      "source": [
        "A list is the Python equivalent of an array, but is resizeable and can contain elements of different types:"
      ]
    },
    {
      "cell_type": "markdown",
      "metadata": {
        "id": "IdGZGaBFKHxW"
      },
      "source": [
        "```python\n",
        "xs = [3, 1, 2]    # Create a list\n",
        "print(xs, xs[2])  # Prints \"[3, 1, 2] 2\"\n",
        "print(xs[-1])     # Negative indices count from the end of the list; prints \"2\"\n",
        "xs[2] = 'foo'     # Lists can contain elements of different types\n",
        "print(xs)         # Prints \"[3, 1, 'foo']\"\n",
        "xs.append('bar')  # Add a new element to the end of the list\n",
        "print(xs)         # Prints \"[3, 1, 'foo', 'bar']\"\n",
        "x = xs.pop()      # Remove and return the last element of the list\n",
        "print(x, xs)      # Prints \"bar [3, 1, 'foo']\"\n",
        "```"
      ]
    },
    {
      "cell_type": "markdown",
      "metadata": {
        "id": "kuPQTtQrKHxW"
      },
      "source": [
        "<div class=\"alert alert-block alert-info\">\n",
        "<b>Tip:</b> Python indices count from 0.\n",
        "</div>"
      ]
    },
    {
      "cell_type": "markdown",
      "metadata": {
        "id": "mS-dgZCGKHxX"
      },
      "source": [
        "##### Slicing a list"
      ]
    },
    {
      "cell_type": "markdown",
      "metadata": {
        "id": "bKPxuOQuKHxX"
      },
      "source": [
        "We've just seen that we can use a square bracket to access an element of a list. In addition to accessing list elements one at a time, Python provides concise syntax to access sublists; this is known as slicing:"
      ]
    },
    {
      "cell_type": "markdown",
      "metadata": {
        "id": "EDIhbFZQKHxX"
      },
      "source": [
        "```python\n",
        "nums = list(range(5))     # range is a built-in function that creates a list of integers\n",
        "print(nums)               # Prints \"[0, 1, 2, 3, 4]\"\n",
        "print(nums[2:4])          # Get a slice from index 2 to 4 (exclusive); prints \"[2, 3]\"\n",
        "print(nums[2:])           # Get a slice from index 2 to the end; prints \"[2, 3, 4]\"\n",
        "print(nums[:2])           # Get a slice from the start to index 2 (exclusive); prints \"[0, 1]\"\n",
        "print(nums[:])            # Get a slice of the whole list; prints \"[0, 1, 2, 3, 4]\"\n",
        "print(nums[:-1])          # Slice indices can be negative; prints \"[0, 1, 2, 3]\"\n",
        "nums[2:4] = [8, 9]        # Assign a new sublist to a slice\n",
        "print(nums)               # Prints \"[0, 1, 8, 9, 4]\"\n",
        "```"
      ]
    },
    {
      "cell_type": "markdown",
      "metadata": {
        "id": "asSqRxFxKHxY"
      },
      "source": [
        "##### Loops"
      ]
    },
    {
      "cell_type": "markdown",
      "metadata": {
        "id": "8g6gNf5LKHxY"
      },
      "source": [
        "You can loop over the elements of a list like this:"
      ]
    },
    {
      "cell_type": "markdown",
      "metadata": {
        "id": "GmxGAIrxKHxZ"
      },
      "source": [
        "```python\n",
        "animals = ['cat', 'dog', 'monkey']\n",
        "for animal in animals:\n",
        "    print(animal)\n",
        "# Prints \"cat\", \"dog\", \"monkey\", each on its own line.\n",
        "```"
      ]
    },
    {
      "cell_type": "markdown",
      "metadata": {
        "id": "kESEA_pnKHxZ"
      },
      "source": [
        "<div class=\"alert alert-block alert-info\">\n",
        "<b>Tip:</b> Pay attention to the syntax of `for ... in`\n",
        "</div>"
      ]
    },
    {
      "cell_type": "markdown",
      "metadata": {
        "id": "95XZdzGxKHxZ"
      },
      "source": [
        "An equivalent form is:"
      ]
    },
    {
      "cell_type": "markdown",
      "metadata": {
        "id": "jsdNPcggKHxa"
      },
      "source": [
        "```python\n",
        "animals = ['cat', 'dog', 'monkey']\n",
        "for i in range(animals):\n",
        "    print(animals[i])\n",
        "# Prints \"cat\", \"dog\", \"monkey\", each on its own line.\n",
        "```"
      ]
    },
    {
      "cell_type": "markdown",
      "metadata": {
        "id": "yrGZGYkgKHxa"
      },
      "source": [
        "I usually think this form is less intuitive."
      ]
    },
    {
      "cell_type": "markdown",
      "metadata": {
        "id": "3yrb6aiGKHxa"
      },
      "source": [
        "##### List comprehensions"
      ]
    },
    {
      "cell_type": "markdown",
      "metadata": {
        "id": "Z1-_9oSdKHxb"
      },
      "source": [
        "When programming, frequently we want to transform one type of data into another. As a simple example, consider the following code that computes square numbers:"
      ]
    },
    {
      "cell_type": "markdown",
      "metadata": {
        "id": "hCkCHwqsKHxb"
      },
      "source": [
        "```python\n",
        "nums = [0, 1, 2, 3, 4]\n",
        "squares = []\n",
        "for x in nums:\n",
        "    squares.append(x ** 2)\n",
        "print(squares)   # Prints [0, 1, 4, 9, 16]\n",
        "```"
      ]
    },
    {
      "cell_type": "markdown",
      "metadata": {
        "id": "t_lEsqo9KHxc"
      },
      "source": [
        "You also see how to write a `for` loop here. You may already notice that there is no bracket for the content of for loop. Instead, python use indent to identify code blocks. Usually when you type in `for x in nums:` and hit return/enter it will automatically indent for you."
      ]
    },
    {
      "cell_type": "markdown",
      "metadata": {
        "id": "_UVMPMHwKHxd"
      },
      "source": [
        "You can make this code simpler using a list comprehension:"
      ]
    },
    {
      "cell_type": "markdown",
      "metadata": {
        "id": "wrOCdESbKHxh"
      },
      "source": [
        "```python\n",
        "nums = [0, 1, 2, 3, 4]\n",
        "squares = [x ** 2 for x in nums]\n",
        "print(squares)   # Prints [0, 1, 4, 9, 16]\n",
        "```"
      ]
    },
    {
      "cell_type": "markdown",
      "metadata": {
        "id": "nKDu67T3KHxk"
      },
      "source": [
        "List comprehensions can also contain conditions (will also see later in the big example):"
      ]
    },
    {
      "cell_type": "markdown",
      "metadata": {
        "id": "ANCdHjF8KHxl"
      },
      "source": [
        "```python\n",
        "nums = [0, 1, 2, 3, 4]\n",
        "even_squares = [x ** 2 for x in nums if x % 2 == 0]\n",
        "print(even_squares)  # Prints \"[0, 4, 16]\"\n",
        "```"
      ]
    },
    {
      "cell_type": "markdown",
      "metadata": {
        "id": "Il770fobKHxm"
      },
      "source": [
        "### Functions"
      ]
    },
    {
      "cell_type": "markdown",
      "metadata": {
        "id": "dIa4hx-pKHxm"
      },
      "source": [
        "Python functions are defined using the def keyword. For example:"
      ]
    },
    {
      "cell_type": "markdown",
      "metadata": {
        "id": "SeqE6kBZKHxn"
      },
      "source": [
        "```python\n",
        "def sign(x):\n",
        "    if x > 0:\n",
        "        return 'positive'\n",
        "    elif x < 0:\n",
        "        return 'negative'\n",
        "    else:\n",
        "        return 'zero'\n",
        "\n",
        "for x in [-1, 0, 1]:\n",
        "    print(sign(x))\n",
        "# Prints \"negative\", \"zero\", \"positive\"\n",
        "```"
      ]
    },
    {
      "cell_type": "code",
      "metadata": {
        "id": "97aEgl4rXlWF",
        "colab": {
          "base_uri": "https://localhost:8080/",
          "height": 34
        },
        "outputId": "5c21daed-3da2-4712-b94c-d2256757efed"
      },
      "source": [
        "def g(x):\n",
        "  x = x+1\n",
        "  return x**2\n",
        "\n",
        "g(10)"
      ],
      "execution_count": null,
      "outputs": [
        {
          "output_type": "execute_result",
          "data": {
            "text/plain": [
              "121"
            ]
          },
          "metadata": {
            "tags": []
          },
          "execution_count": 14
        }
      ]
    },
    {
      "cell_type": "markdown",
      "metadata": {
        "id": "szG0oEvbKHxn"
      },
      "source": [
        "You also learn how to write an `if-else` condition expression here. We can conveniently define functions with optional keyword arguments, like this:"
      ]
    },
    {
      "cell_type": "markdown",
      "metadata": {
        "id": "AVPF_op1KHxo"
      },
      "source": [
        "```python\n",
        "def hello(name, loud=False):\n",
        "    if loud:\n",
        "        print('HELLO, %s!' % name.upper())\n",
        "    else:\n",
        "        print('Hello, %s' % name)\n",
        "\n",
        "hello('Bob') # Prints \"Hello, Bob\"\n",
        "hello('Fred', loud=True)  # Prints \"HELLO, FRED!\"\n",
        "```"
      ]
    },
    {
      "cell_type": "markdown",
      "metadata": {
        "id": "pfKerUFnKHxo"
      },
      "source": [
        "In this function `hello`, if you don't provide a value to `loud` when you call the function, it will take default key value `loud=False`"
      ]
    },
    {
      "cell_type": "markdown",
      "metadata": {
        "id": "5xcxxLHfKHxp"
      },
      "source": [
        "### Classes"
      ]
    },
    {
      "cell_type": "markdown",
      "metadata": {
        "id": "F876HauzKHxp"
      },
      "source": [
        "We're not going into details about it. Understanding and use of classes are not required for this course (again, this is not a programming course!) However, <b> classes is a very important idea in programming in python</b>, so here we are going to take a glance at classes through short examples."
      ]
    },
    {
      "cell_type": "markdown",
      "metadata": {
        "id": "hx4BCOpCKHxp"
      },
      "source": [
        "Generally, Classes provide a means of bundling data and functionality together. Now we define a class of complex numbers:"
      ]
    },
    {
      "cell_type": "code",
      "metadata": {
        "id": "bSKuvd-mKHxq"
      },
      "source": [
        "class Complex:\n",
        "    def __init__(self, realpart, imagpart): # initialization when creating an instance of this class. \n",
        "        #self is a pointer toward the instance and the namespace. It is called self because of convention rather than being a special character.\n",
        "        self.r = realpart\n",
        "        self.i = imagpart"
      ],
      "execution_count": null,
      "outputs": []
    },
    {
      "cell_type": "markdown",
      "metadata": {
        "id": "8921K4GbKHxs"
      },
      "source": [
        "The `__init__()` method is invoked automatically when you create an instance. See below."
      ]
    },
    {
      "cell_type": "code",
      "metadata": {
        "id": "JO-VvsyKKHxs",
        "outputId": "0b65cc1a-8aae-4df6-e482-f54b3d56433a"
      },
      "source": [
        "x = Complex(3.0, -4.5)\n",
        "x.r, x.i"
      ],
      "execution_count": null,
      "outputs": [
        {
          "output_type": "execute_result",
          "data": {
            "text/plain": [
              "(3.0, -4.5)"
            ]
          },
          "metadata": {
            "tags": []
          },
          "execution_count": 8
        }
      ]
    },
    {
      "cell_type": "markdown",
      "metadata": {
        "id": "RcUesRiFKHxv"
      },
      "source": [
        "### Methods (“Functions in Classes”)"
      ]
    },
    {
      "cell_type": "markdown",
      "metadata": {
        "id": "cjtH7OPPKHxw"
      },
      "source": [
        "Roughly speaking methods are \"objects in classes\" that \"behaves like\" functions. We'll see a lot of examples of methods when we introduce NumPy. A key difference between functions and classes is:\n",
        "- functions can called only by its name; defined independently.\n",
        "- Calling methods should invoke the corresponding class; dependent on the corresponding class. "
      ]
    },
    {
      "cell_type": "markdown",
      "metadata": {
        "id": "oIgM1kfZKHxw"
      },
      "source": [
        "Here is a simple example of methods:"
      ]
    },
    {
      "cell_type": "code",
      "metadata": {
        "id": "BgQtmFLpKHxw"
      },
      "source": [
        "class Dog:\n",
        "\n",
        "    def __init__(self, name):\n",
        "        self.name = name\n",
        "        self.tricks = []    \n",
        "\n",
        "    def add_trick(self, trick): # This is a method of the Dog class. It adds tricks to a Dog instance\n",
        "        self.tricks.append(trick)"
      ],
      "execution_count": null,
      "outputs": []
    },
    {
      "cell_type": "code",
      "metadata": {
        "id": "7balyausKHxz"
      },
      "source": [
        "d = Dog('Fido')\n",
        "d.add_trick('roll over') # method should invoke the corresponding class"
      ],
      "execution_count": null,
      "outputs": []
    },
    {
      "cell_type": "code",
      "metadata": {
        "id": "jgo-pfs6KHx0",
        "outputId": "db810e2c-535f-408b-c2ce-57bb0ef7a3c7"
      },
      "source": [
        "d.name"
      ],
      "execution_count": null,
      "outputs": [
        {
          "output_type": "execute_result",
          "data": {
            "text/plain": [
              "'Fido'"
            ]
          },
          "metadata": {
            "tags": []
          },
          "execution_count": 11
        }
      ]
    },
    {
      "cell_type": "code",
      "metadata": {
        "id": "3WmTfl0kKHx3",
        "outputId": "60a1ed9f-e299-4df8-8d52-2309a45d4430"
      },
      "source": [
        "d.tricks"
      ],
      "execution_count": null,
      "outputs": [
        {
          "output_type": "execute_result",
          "data": {
            "text/plain": [
              "['roll over']"
            ]
          },
          "metadata": {
            "tags": []
          },
          "execution_count": 12
        }
      ]
    },
    {
      "cell_type": "markdown",
      "metadata": {
        "id": "nXzt-GYlKHx5"
      },
      "source": [
        "<div class=\"alert alert-block alert-info\">\n",
        "<b>Tip:</b> `append` is a method of `list`\n",
        "</div>"
      ]
    },
    {
      "cell_type": "markdown",
      "metadata": {
        "id": "zigCspxJKHx6"
      },
      "source": [
        "## III. Packages installed here in Jupyterhub (numpy, scipy, sympy, matplotlib, and pandas)"
      ]
    },
    {
      "cell_type": "markdown",
      "metadata": {
        "id": "yCbRFxvgKHx6"
      },
      "source": [
        "Basically we planted the entire \"Scipy\" system to our Jupyterhub (shown below). Note that these packages have certain level of overlapping with each other. "
      ]
    },
    {
      "cell_type": "markdown",
      "metadata": {
        "id": "1SxTfQCcKHx6"
      },
      "source": [
        "- NumPy: Deals with N-dimensional arrays. Easy import and export.\n",
        "- SciPy: Scientific functions. Equation solves may be used in this course\n",
        "- Matplotlib: Plot things similar to making plots in matlab.\n",
        "- IPython: this interactive notebook\n",
        "- Sympy: Doing symbolic analysis like Mathematica\n",
        "- pandas: a somewhat more advanced data analysis library. Won't be frequently used in this course.\n",
        "\n",
        "We will talk about NumPy in some detail here. Matplotlib and Sympy will be covered in separate sections below. SciPy library will be introduced in the future if we need specific equation solvers or some other functions."
      ]
    },
    {
      "cell_type": "markdown",
      "metadata": {
        "id": "vv1w2csQKHx7"
      },
      "source": [
        "### NumPy"
      ]
    },
    {
      "cell_type": "markdown",
      "metadata": {
        "id": "xGyNSwk_KHx7"
      },
      "source": [
        "Numpy makes processing of N-dimensional arrays more easily. Here only a small fraction of NumPy is covered. Please check out the NumPy documentation: https://docs.scipy.org/doc/numpy/reference/ or try more problems and Google more (I prefer the latter)"
      ]
    },
    {
      "cell_type": "markdown",
      "metadata": {
        "id": "l2ihKTwJKHx8"
      },
      "source": [
        "I guess not many people want to type \"numpy\" again and again, so usually people import `numpy` with an alias `np`. You can use any alias you like but always keeping commonly-used alias may help improve the readability of your codes."
      ]
    },
    {
      "cell_type": "code",
      "metadata": {
        "id": "qKzMFEFHKHx8"
      },
      "source": [
        "import numpy as np # import the \"collection of function\" numpy library, then use the functions"
      ],
      "execution_count": null,
      "outputs": []
    },
    {
      "cell_type": "code",
      "metadata": {
        "id": "m3JMn5pkZdqY",
        "colab": {
          "base_uri": "https://localhost:8080/",
          "height": 181
        },
        "outputId": "d93290da-7b3d-4569-c13f-3431d86af0fe"
      },
      "source": [
        "l = [1, 2, 3]/4\n",
        "l"
      ],
      "execution_count": null,
      "outputs": [
        {
          "output_type": "error",
          "ename": "TypeError",
          "evalue": "ignored",
          "traceback": [
            "\u001b[0;31m---------------------------------------------------------------------------\u001b[0m",
            "\u001b[0;31mTypeError\u001b[0m                                 Traceback (most recent call last)",
            "\u001b[0;32m<ipython-input-24-ee70815e524f>\u001b[0m in \u001b[0;36m<module>\u001b[0;34m()\u001b[0m\n\u001b[0;32m----> 1\u001b[0;31m \u001b[0ml\u001b[0m \u001b[0;34m=\u001b[0m \u001b[0;34m[\u001b[0m\u001b[0;36m1\u001b[0m\u001b[0;34m,\u001b[0m \u001b[0;36m2\u001b[0m\u001b[0;34m,\u001b[0m \u001b[0;36m3\u001b[0m\u001b[0;34m]\u001b[0m\u001b[0;34m/\u001b[0m\u001b[0;36m4\u001b[0m\u001b[0;34m\u001b[0m\u001b[0;34m\u001b[0m\u001b[0m\n\u001b[0m\u001b[1;32m      2\u001b[0m \u001b[0ml\u001b[0m\u001b[0;34m\u001b[0m\u001b[0;34m\u001b[0m\u001b[0m\n",
            "\u001b[0;31mTypeError\u001b[0m: unsupported operand type(s) for /: 'list' and 'int'"
          ]
        }
      ]
    },
    {
      "cell_type": "code",
      "metadata": {
        "id": "b2Qye1oeY3-2",
        "colab": {
          "base_uri": "https://localhost:8080/",
          "height": 34
        },
        "outputId": "6fe73697-4c03-4995-9811-454c3fa1e27f"
      },
      "source": [
        "a = np.array([1, 2.1, 4])/4\n",
        "a"
      ],
      "execution_count": null,
      "outputs": [
        {
          "output_type": "execute_result",
          "data": {
            "text/plain": [
              "array([0.25 , 0.525, 1.   ])"
            ]
          },
          "metadata": {
            "tags": []
          },
          "execution_count": 26
        }
      ]
    },
    {
      "cell_type": "markdown",
      "metadata": {
        "id": "UYgrvA3AKHyA"
      },
      "source": [
        "<div class=\"alert alert-block alert-info\">\n",
        "<b>Tip:</b> A python library is like a \"reference book\". In real life you \"use a chapter or a section of a book\" to help you solve a problem. In python you \"use a function from a library\" to help you solve a problem.\n",
        "</div>"
      ]
    },
    {
      "cell_type": "markdown",
      "metadata": {
        "id": "eI_8DWkhKHyB"
      },
      "source": [
        "For most of the time we are using NumPy to construct \"lists\" (numpy.ndarray), and do array math conveniently. We also use some function solves provided by NumPy (see later)"
      ]
    },
    {
      "cell_type": "markdown",
      "metadata": {
        "id": "RDYKMGmDKHyB"
      },
      "source": [
        "<b> Constructing lists </b>: \n",
        "```python\n",
        "numpy.linspace(start, stop, num=50, endpoint=True, retstep=False, dtype=None)\n",
        "```\n",
        "or\n",
        "```python\n",
        "numpy.arange([start, ]stop, [step, ]dtype=None)\n",
        "```\n",
        "Examples:"
      ]
    },
    {
      "cell_type": "code",
      "metadata": {
        "id": "FsXJahDUKHyC",
        "colab": {
          "base_uri": "https://localhost:8080/",
          "height": 34
        },
        "outputId": "122a31e8-8f45-4afb-c1f1-4947d1919f30"
      },
      "source": [
        "np.linspace(2.0, 3.0, num=6)"
      ],
      "execution_count": null,
      "outputs": [
        {
          "output_type": "execute_result",
          "data": {
            "text/plain": [
              "array([2. , 2.2, 2.4, 2.6, 2.8, 3. ])"
            ]
          },
          "metadata": {
            "tags": []
          },
          "execution_count": 27
        }
      ]
    },
    {
      "cell_type": "code",
      "metadata": {
        "id": "2IarDZDOKHyH",
        "outputId": "70c6d50f-84b0-43b5-cce8-749fbf316326"
      },
      "source": [
        "np.linspace(2.0, 3.0, num=5, endpoint=False)"
      ],
      "execution_count": null,
      "outputs": [
        {
          "output_type": "execute_result",
          "data": {
            "text/plain": [
              "array([2. , 2.2, 2.4, 2.6, 2.8])"
            ]
          },
          "metadata": {
            "tags": []
          },
          "execution_count": 15
        }
      ]
    },
    {
      "cell_type": "code",
      "metadata": {
        "id": "uUMWCD2YKHyM",
        "outputId": "5fc0d3a0-058b-4f58-b257-eb498a3920be"
      },
      "source": [
        "np.arange(3)"
      ],
      "execution_count": null,
      "outputs": [
        {
          "output_type": "execute_result",
          "data": {
            "text/plain": [
              "array([0, 1, 2])"
            ]
          },
          "metadata": {
            "tags": []
          },
          "execution_count": 16
        }
      ]
    },
    {
      "cell_type": "code",
      "metadata": {
        "id": "OX6zaFXrKHyO",
        "outputId": "6230d495-f8cb-49e7-f263-360cf126da92"
      },
      "source": [
        "np.arange(3.0)"
      ],
      "execution_count": null,
      "outputs": [
        {
          "output_type": "execute_result",
          "data": {
            "text/plain": [
              "array([0., 1., 2.])"
            ]
          },
          "metadata": {
            "tags": []
          },
          "execution_count": 17
        }
      ]
    },
    {
      "cell_type": "code",
      "metadata": {
        "id": "IqsUM9huKHyR",
        "outputId": "dfe2c1d9-b7ba-4551-8623-f019e9d8f43f"
      },
      "source": [
        "np.arange(3,7)"
      ],
      "execution_count": null,
      "outputs": [
        {
          "output_type": "execute_result",
          "data": {
            "text/plain": [
              "array([3, 4, 5, 6])"
            ]
          },
          "metadata": {
            "tags": []
          },
          "execution_count": 18
        }
      ]
    },
    {
      "cell_type": "code",
      "metadata": {
        "id": "lUs4iFsvKHyU",
        "outputId": "80547e12-e25c-4e70-f1cd-95b9316988af"
      },
      "source": [
        "type(np.linspace(2.0, 3.0, num=5))"
      ],
      "execution_count": null,
      "outputs": [
        {
          "output_type": "execute_result",
          "data": {
            "text/plain": [
              "numpy.ndarray"
            ]
          },
          "metadata": {
            "tags": []
          },
          "execution_count": 19
        }
      ]
    },
    {
      "cell_type": "code",
      "metadata": {
        "id": "I8lnse5QKHyY",
        "outputId": "ef5e8c66-c3a5-406f-bf95-dfa5bce7d58f"
      },
      "source": [
        "type(np.arange(3))"
      ],
      "execution_count": null,
      "outputs": [
        {
          "output_type": "execute_result",
          "data": {
            "text/plain": [
              "numpy.ndarray"
            ]
          },
          "metadata": {
            "tags": []
          },
          "execution_count": 20
        }
      ]
    },
    {
      "cell_type": "code",
      "metadata": {
        "id": "zm09X5JGKHya",
        "outputId": "eb352690-2ccc-441d-e166-d1ddee6ed92b"
      },
      "source": [
        "list(np.arange(3,7))"
      ],
      "execution_count": null,
      "outputs": [
        {
          "output_type": "execute_result",
          "data": {
            "text/plain": [
              "[3, 4, 5, 6]"
            ]
          },
          "metadata": {
            "tags": []
          },
          "execution_count": 21
        }
      ]
    },
    {
      "cell_type": "markdown",
      "metadata": {
        "id": "1ziqQxF3KHyc"
      },
      "source": [
        "Above actions creates an numpy.ndarry, which can be easily converted to list by list( ) function. BTW, you can actually create a list without NumPy, using the `range(m,n)` function.\n",
        "\n",
        "Range is a built-in python data type. It's type is \"range\""
      ]
    },
    {
      "cell_type": "code",
      "metadata": {
        "id": "PXDBGY5MKHyc",
        "outputId": "8050c9d3-4762-4c03-faa1-0740185e7d3c"
      },
      "source": [
        "type(range(1))"
      ],
      "execution_count": null,
      "outputs": [
        {
          "output_type": "execute_result",
          "data": {
            "text/plain": [
              "range"
            ]
          },
          "metadata": {
            "tags": []
          },
          "execution_count": 22
        }
      ]
    },
    {
      "cell_type": "markdown",
      "metadata": {
        "id": "nzpGkOLDKHyf"
      },
      "source": [
        "It is useful for looping. Same for NumPy arrays."
      ]
    },
    {
      "cell_type": "code",
      "metadata": {
        "id": "zKVMdbaNKHyg",
        "outputId": "274d075e-44f0-4903-854e-a2ccaacc4058"
      },
      "source": [
        "for i in range(0,10):\n",
        "    print(i**2)"
      ],
      "execution_count": null,
      "outputs": [
        {
          "output_type": "stream",
          "text": [
            "0\n",
            "1\n",
            "4\n",
            "9\n",
            "16\n",
            "25\n",
            "36\n",
            "49\n",
            "64\n",
            "81\n"
          ],
          "name": "stdout"
        }
      ]
    },
    {
      "cell_type": "markdown",
      "metadata": {
        "id": "vAMe6i4EKHyk"
      },
      "source": [
        "OK, you already found that `range(10)` is a sequence from 0 to 9. Generally, `range(m,n)` is from $m$ to $n-1$. Do to the same thing as `np.linspace(2.0, 3.0, num=5)`, we can do"
      ]
    },
    {
      "cell_type": "code",
      "metadata": {
        "id": "3tUUkMTiKHym",
        "outputId": "66c9697b-344a-4ef1-d214-3f8dff9faac9"
      },
      "source": [
        "[2+x/4 for x in range(5)]"
      ],
      "execution_count": null,
      "outputs": [
        {
          "output_type": "execute_result",
          "data": {
            "text/plain": [
              "[2.0, 2.25, 2.5, 2.75, 3.0]"
            ]
          },
          "metadata": {
            "tags": []
          },
          "execution_count": 24
        }
      ]
    },
    {
      "cell_type": "markdown",
      "metadata": {
        "id": "guLQo3SnKHyo"
      },
      "source": [
        "It is a list with the same elements."
      ]
    },
    {
      "cell_type": "markdown",
      "metadata": {
        "id": "RPRpF5FqKHyq"
      },
      "source": [
        "<b> Array math </b>: Here are some math operations for arrays that can be done conviently. Also very easily readable. Please read through and have an idea of <b> what can NumPy do </b>. Memorizing syntax is not quite necessary since the references of usage are easily found online."
      ]
    },
    {
      "cell_type": "markdown",
      "metadata": {
        "id": "UZj_rROBKHyq"
      },
      "source": [
        "```python\n",
        "import numpy as np\n",
        "\n",
        "x = np.array([[1,2],[3,4]], dtype=np.float64)\n",
        "y = np.array([[5,6],[7,8]], dtype=np.float64)\n",
        "\n",
        "# Elementwise sum; both produce the array\n",
        "# [[ 6.0  8.0]\n",
        "#  [10.0 12.0]]\n",
        "print(x + y)\n",
        "print(np.add(x, y))\n",
        "\n",
        "# Elementwise difference; both produce the array\n",
        "# [[-4.0 -4.0]\n",
        "#  [-4.0 -4.0]]\n",
        "print(x - y)\n",
        "print(np.subtract(x, y))\n",
        "\n",
        "# Elementwise product; both produce the array\n",
        "# [[ 5.0 12.0]\n",
        "#  [21.0 32.0]]\n",
        "print(x * y)\n",
        "print(np.multiply(x, y))\n",
        "\n",
        "# Elementwise division; both produce the array\n",
        "# [[ 0.2         0.33333333]\n",
        "#  [ 0.42857143  0.5       ]]\n",
        "print(x / y)\n",
        "print(np.divide(x, y))\n",
        "\n",
        "# Elementwise square root; produces the array\n",
        "# [[ 1.          1.41421356]\n",
        "#  [ 1.73205081  2.        ]]\n",
        "print(np.sqrt(x))\n",
        "```"
      ]
    },
    {
      "cell_type": "markdown",
      "metadata": {
        "id": "taSMy8NFKHyr"
      },
      "source": [
        "Note that unlike MATLAB (but just like Mathematica!), `*` is elementwise multiplication, not matrix multiplication. We instead use the `dot` function to compute inner products of vectors, to multiply a vector by a matrix, and to multiply matrices."
      ]
    },
    {
      "cell_type": "markdown",
      "metadata": {
        "id": "_CJxNF2iKHyr"
      },
      "source": [
        "```python\n",
        "x = np.array([[1,2],[3,4]])\n",
        "y = np.array([[5,6],[7,8]])\n",
        "\n",
        "v = np.array([9,10])\n",
        "w = np.array([11, 12])\n",
        "\n",
        "# Inner product of vectors; both produce 219\n",
        "print(v.dot(w))\n",
        "print(np.dot(v, w))\n",
        "\n",
        "# Matrix / vector product; both produce the rank 1 array [29 67]\n",
        "print(x.dot(v))\n",
        "print(np.dot(x, v))\n",
        "\n",
        "# Matrix / matrix product; both produce the rank 2 array\n",
        "# [[19 22]\n",
        "#  [43 50]]\n",
        "print(x.dot(y))\n",
        "print(np.dot(x, y))\n",
        "```"
      ]
    },
    {
      "cell_type": "markdown",
      "metadata": {
        "id": "JXmcFsiDKHyr"
      },
      "source": [
        "By the way, in Mathematica you have:\n",
        "```Wolfram\n",
        "In[1]:= {1, 2, 3} {4, 5, 6}\n",
        "Out[1]:= {4,10,18}\n",
        "\n",
        "In[2]:= Dot[{1, 2, 3},{4, 5, 6}]\n",
        "Out[2]:= 32\n",
        "```"
      ]
    },
    {
      "cell_type": "markdown",
      "metadata": {
        "id": "kd0oYf3_KHyt"
      },
      "source": [
        "Other functions such as sum of an array and transpose"
      ]
    },
    {
      "cell_type": "markdown",
      "metadata": {
        "id": "Yx6aZH5TKHyt"
      },
      "source": [
        "```python\n",
        "import numpy as np\n",
        "\n",
        "x = np.array([[1,2],[3,4]])\n",
        "\n",
        "print(np.sum(x))  # Compute sum of all elements; prints \"10\"\n",
        "print(np.sum(x, axis=0))  # Compute sum of each column; prints \"[4 6]\"\n",
        "print(np.sum(x, axis=1))  # Compute sum of each row; prints \"[3 7]\"\n",
        "```"
      ]
    },
    {
      "cell_type": "markdown",
      "metadata": {
        "id": "ziQ_bSWnKHyv"
      },
      "source": [
        "```python\n",
        "import numpy as np\n",
        "\n",
        "x = np.array([[1,2], [3,4]])\n",
        "print(x)    # Prints \"[[1 2]\n",
        "            #          [3 4]]\"\n",
        "print(x.T)  # Prints \"[[1 3]\n",
        "            #          [2 4]]\"\n",
        "\n",
        "# Note that taking the transpose of a rank 1 array does nothing:\n",
        "v = np.array([1,2,3])\n",
        "print(v)    # Prints \"[1 2 3]\"\n",
        "print(v.T)  # Prints \"[1 2 3]\"\n",
        "```"
      ]
    },
    {
      "cell_type": "markdown",
      "metadata": {
        "id": "G6bPIldwKHyv"
      },
      "source": [
        "<div class=\"alert alert-block alert-info\">\n",
        "<b>Tip:</b> Dot and transposes are methods of arrays\n",
        "</div>"
      ]
    },
    {
      "cell_type": "markdown",
      "metadata": {
        "id": "P8TeZ93HKHyv"
      },
      "source": [
        "There are many more functions provided by NumPy. Check them out on official documentation of NumPy. Things beyond list manipulation will almost surely not be required in coding for this course."
      ]
    },
    {
      "cell_type": "markdown",
      "metadata": {
        "id": "ApCfd1LCKHyv"
      },
      "source": [
        "### SciPy"
      ]
    },
    {
      "cell_type": "markdown",
      "metadata": {
        "id": "68pDLmXSKHyx"
      },
      "source": [
        "Numpy provides a high-performance multidimensional array and basic tools to compute with and manipulate these arrays. SciPy builds on this, and provides a large number of functions that operate on numpy arrays and are useful for different types of scientific and engineering applications.\n",
        "\n",
        "\n",
        "In this course, the major use of scipy is the various solvers which are easily identified in the official documentation. The detailed usage will be introduced when we move to related topics."
      ]
    },
    {
      "cell_type": "markdown",
      "metadata": {
        "id": "1zN76VEsKHyx"
      },
      "source": [
        "## IV. Sympy for symbolic computation"
      ]
    },
    {
      "cell_type": "markdown",
      "metadata": {
        "id": "YX_3AkhcKHyy"
      },
      "source": [
        "### Overall introduction"
      ]
    },
    {
      "cell_type": "markdown",
      "metadata": {
        "id": "3cmTkjcWKHyy"
      },
      "source": [
        "Sympy is a python library just like others. It is also a computer algebra system (CAS) similar to Mathematica. Usually, when we decide to go to symbolic, we import everything in sympy such that we can <b> directly call the functions in sympy by the function name </b>."
      ]
    },
    {
      "cell_type": "code",
      "metadata": {
        "id": "uD0IXlVFKHyz"
      },
      "source": [
        "from sympy import *\n",
        "init_printing() #init_printing(use_latex=True)"
      ],
      "execution_count": null,
      "outputs": []
    },
    {
      "cell_type": "code",
      "metadata": {
        "id": "oitN44DmhjZb",
        "colab": {
          "base_uri": "https://localhost:8080/",
          "height": 188
        },
        "outputId": "e02cf22d-68d8-4758-ffdb-82872e6ee0d4"
      },
      "source": [
        "pip show sympy"
      ],
      "execution_count": null,
      "outputs": [
        {
          "output_type": "stream",
          "text": [
            "Name: sympy\n",
            "Version: 1.1.1\n",
            "Summary: Computer algebra system (CAS) in Python\n",
            "Home-page: http://sympy.org\n",
            "Author: SymPy development team\n",
            "Author-email: sympy@googlegroups.com\n",
            "License: BSD\n",
            "Location: /usr/local/lib/python3.6/dist-packages\n",
            "Requires: mpmath\n",
            "Required-by: \n"
          ],
          "name": "stdout"
        }
      ]
    },
    {
      "cell_type": "markdown",
      "metadata": {
        "id": "yU3aZOgNKHy3"
      },
      "source": [
        "The code `init_printing()` will alter the output style to Latex style."
      ]
    },
    {
      "cell_type": "markdown",
      "metadata": {
        "id": "HN4F1mexKHy4"
      },
      "source": [
        "<b> Q: </b> Why not just using Mathematica?\n",
        "\n",
        "<b> A: </b>\n",
        "\n",
        "- It's better to have Latex style output and to be able to link the output to Latex\n",
        "- Mathematica is just a computer algebra system (CAS). Sympy provides a highly comparable CAS withing the powerful python."
      ]
    },
    {
      "cell_type": "markdown",
      "metadata": {
        "id": "jFfWuxsoKHy4"
      },
      "source": [
        "### Syntax and features"
      ]
    },
    {
      "cell_type": "markdown",
      "metadata": {
        "id": "jkGhA5zyKHy5"
      },
      "source": [
        "#### A new \"symbol\" class"
      ]
    },
    {
      "cell_type": "markdown",
      "metadata": {
        "id": "XYvXvXZkKHy5"
      },
      "source": [
        "Python itself does not support symbolic variables. So sympy actually creates new class (a new data structure) called \"symbols\". We'll see this type below."
      ]
    },
    {
      "cell_type": "code",
      "metadata": {
        "id": "JOtvHvWXKHy5",
        "colab": {
          "base_uri": "https://localhost:8080/",
          "height": 34
        },
        "outputId": "65c482af-e856-4b85-f007-c82ba164250d"
      },
      "source": [
        "a = symbols('a')\n",
        "type(a)"
      ],
      "execution_count": null,
      "outputs": [
        {
          "output_type": "execute_result",
          "data": {
            "text/plain": [
              "sympy.core.symbol.Symbol"
            ]
          },
          "metadata": {
            "tags": []
          },
          "execution_count": 17
        }
      ]
    },
    {
      "cell_type": "markdown",
      "metadata": {
        "id": "QqAaE7zFKHy8"
      },
      "source": [
        "<div class=\"alert alert-block alert-warning\">\n",
        "<b>Warning:</b> Remember to declare the symbols before using them (or, remember to switch from \"python variable `a`\" to \"symbol `a`\"\n",
        "</div>"
      ]
    },
    {
      "cell_type": "markdown",
      "metadata": {
        "id": "hX5huPuqKHy8"
      },
      "source": [
        "As we can see, now a is a Sympy symbol rather than an `int` or a `float` or a string."
      ]
    },
    {
      "cell_type": "markdown",
      "metadata": {
        "id": "ROyl2HU1KHzA"
      },
      "source": [
        "#### Overwriting printing style"
      ]
    },
    {
      "cell_type": "markdown",
      "metadata": {
        "id": "EChr1y1RKHzC"
      },
      "source": [
        "Since we already initialized printing, we now turn it off."
      ]
    },
    {
      "cell_type": "code",
      "metadata": {
        "id": "cMvL1vvUKHzD",
        "outputId": "5afc323f-0c09-4103-f8b0-5b0085f36f6e"
      },
      "source": [
        "init_printing(use_latex=False)\n",
        "a"
      ],
      "execution_count": null,
      "outputs": [
        {
          "output_type": "execute_result",
          "data": {
            "text/plain": [
              "a"
            ]
          },
          "metadata": {
            "tags": []
          },
          "execution_count": 27
        }
      ]
    },
    {
      "cell_type": "code",
      "metadata": {
        "id": "o8msJquXKHzF",
        "outputId": "44af463a-95d4-4e8b-e4b9-bcb4302cd74d"
      },
      "source": [
        "init_printing(use_latex=True) # The default value of use_latex is True\n",
        "a"
      ],
      "execution_count": null,
      "outputs": [
        {
          "output_type": "execute_result",
          "data": {
            "image/png": "[encoded data removed]",
            "text/latex": "$$a$$",
            "text/plain": [
              "a"
            ]
          },
          "metadata": {
            "tags": []
          },
          "execution_count": 28
        }
      ]
    },
    {
      "cell_type": "markdown",
      "metadata": {
        "id": "JDHD5JweKHzH"
      },
      "source": [
        "#### Complete latex-style output"
      ]
    },
    {
      "cell_type": "code",
      "metadata": {
        "scrolled": true,
        "id": "gJ5smqleKHzH",
        "colab": {
          "base_uri": "https://localhost:8080/",
          "height": 40
        },
        "outputId": "7f810e4d-9567-4808-848e-3b0d1b801351"
      },
      "source": [
        "a, b, x, f = symbols('a b x f')\n",
        "c = Integral(f(x),(x,a,b))\n",
        "Integral(f(a),(a,a,b))\n",
        "c"
      ],
      "execution_count": null,
      "outputs": [
        {
          "output_type": "execute_result",
          "data": {
            "image/png": "[encoded data removed]",
            "text/latex": "$$\\int_{a}^{b} f{\\left (x \\right )}\\, dx$$",
            "text/plain": [
              "b        \n",
              "⌠        \n",
              "⎮ f(x) dx\n",
              "⌡        \n",
              "a        "
            ]
          },
          "metadata": {
            "tags": []
          },
          "execution_count": 20
        }
      ]
    },
    {
      "cell_type": "markdown",
      "metadata": {
        "id": "AEtuIG0vKHzK"
      },
      "source": [
        "such style preserves throughout computation, including results solved from Equations. For example, solving the following differential equation"
      ]
    },
    {
      "cell_type": "markdown",
      "metadata": {
        "id": "sziTk4ELKHzK"
      },
      "source": [
        "#### Analytical solution"
      ]
    },
    {
      "cell_type": "markdown",
      "metadata": {
        "id": "zj_jXaKHKHzK"
      },
      "source": [
        "First let's display a differential equation"
      ]
    },
    {
      "cell_type": "code",
      "metadata": {
        "id": "3VXe2kufKHzK",
        "colab": {
          "base_uri": "https://localhost:8080/",
          "height": 40
        },
        "outputId": "88b6b319-b607-40da-ae96-41c7dddab068"
      },
      "source": [
        "y, t = symbols('y t')\n",
        "Eq(y(t).diff(t, t) - y(t), exp(t))"
      ],
      "execution_count": null,
      "outputs": [
        {
          "output_type": "execute_result",
          "data": {
            "image/png": "[encoded data removed]",
            "text/latex": "$$- y{\\left (t \\right )} + \\frac{d^{2}}{d t^{2}}  y{\\left (t \\right )} = e^{t}$$",
            "text/plain": [
              "          2           \n",
              "         d           t\n",
              "-y(t) + ───(y(t)) = ℯ \n",
              "          2           \n",
              "        dt            "
            ]
          },
          "metadata": {
            "tags": []
          },
          "execution_count": 11
        }
      ]
    },
    {
      "cell_type": "markdown",
      "metadata": {
        "id": "uDOMpPFqKHzO"
      },
      "source": [
        "Then solve it <i> analytically </i>"
      ]
    },
    {
      "cell_type": "code",
      "metadata": {
        "id": "U4Vkt1rqKHzP",
        "colab": {
          "base_uri": "https://localhost:8080/",
          "height": 38
        },
        "outputId": "09e4cb90-7880-46da-a0f5-87ffd8a6d194"
      },
      "source": [
        "dsolve(Eq(y(t).diff(t, t) - y(t), exp(t)), y(t))"
      ],
      "execution_count": null,
      "outputs": [
        {
          "output_type": "execute_result",
          "data": {
            "image/png": "[encoded data removed]",
            "text/latex": "$$y{\\left (t \\right )} = C_{2} e^{- t} + \\left(C_{1} + \\frac{t}{2}\\right) e^{t}$$",
            "text/plain": [
              "           -t   ⎛     t⎞  t\n",
              "y(t) = C₂⋅ℯ   + ⎜C₁ + ─⎟⋅ℯ \n",
              "                ⎝     2⎠   "
            ]
          },
          "metadata": {
            "tags": []
          },
          "execution_count": 13
        }
      ]
    },
    {
      "cell_type": "markdown",
      "metadata": {
        "id": "AuBCQxR_KHzS"
      },
      "source": [
        "The solver `dsolve` is from sympy.solvers.ode. Somehow the name is identical to its counterpart in Mathematica."
      ]
    },
    {
      "cell_type": "markdown",
      "metadata": {
        "id": "z3YzUFbCKHzS"
      },
      "source": [
        "#### Turn output into Latex"
      ]
    },
    {
      "cell_type": "code",
      "metadata": {
        "id": "58a8guXzKHzS",
        "colab": {
          "base_uri": "https://localhost:8080/",
          "height": 34
        },
        "outputId": "0fcc1051-dc5b-4901-c095-7d718cb4a9e4"
      },
      "source": [
        "f, a, b, x= symbols('f a b x')\n",
        "latex(Integral(f(x),(x,a,b)))"
      ],
      "execution_count": null,
      "outputs": [
        {
          "output_type": "execute_result",
          "data": {
            "application/vnd.google.colaboratory.intrinsic+json": {
              "type": "string"
            },
            "text/plain": [
              "'\\\\int_{a}^{b} f{\\\\left (x \\\\right )}\\\\, dx'"
            ]
          },
          "metadata": {
            "tags": []
          },
          "execution_count": 14
        }
      ]
    },
    {
      "cell_type": "markdown",
      "metadata": {
        "id": "g8HfPLW3KHzU"
      },
      "source": [
        "The output string will be a format compatible to Latex"
      ]
    },
    {
      "cell_type": "markdown",
      "metadata": {
        "id": "FErufRhVKHzU"
      },
      "source": [
        "#### Simplification of equations"
      ]
    },
    {
      "cell_type": "markdown",
      "metadata": {
        "id": "J73l7UzTKHzV"
      },
      "source": [
        "One of the most useful features of a symbolic manipulation system is the ability to simplify mathematical expressions. SymPy has dozens of functions to perform various kinds of simplification (check official documents!). There is also one general function called `simplify()` that attempts to apply all of these functions in an intelligent way to arrive at the simplest form of an expression. Here are some examples:"
      ]
    },
    {
      "cell_type": "code",
      "metadata": {
        "id": "WUXk8tqAKHzV"
      },
      "source": [
        "x=symbols('x')"
      ],
      "execution_count": null,
      "outputs": []
    },
    {
      "cell_type": "code",
      "metadata": {
        "id": "s2ZGCNLQKHzZ",
        "outputId": "56fc70ee-cc35-4219-87a6-7adb0eb06355"
      },
      "source": [
        "simplify(sin(x)**2+cos(x)**2)"
      ],
      "execution_count": null,
      "outputs": [
        {
          "output_type": "execute_result",
          "data": {
            "image/png": "[encoded data removed]",
            "text/latex": "$$1$$",
            "text/plain": [
              "1"
            ]
          },
          "metadata": {
            "tags": []
          },
          "execution_count": 34
        }
      ]
    },
    {
      "cell_type": "code",
      "metadata": {
        "id": "JAzHcxfiKHzb",
        "outputId": "db92f650-b3af-457a-ad21-ad82fb83de6d"
      },
      "source": [
        "simplify((x**3 + x**2 - x - 1)/(x**2 + 2*x + 1))"
      ],
      "execution_count": null,
      "outputs": [
        {
          "output_type": "execute_result",
          "data": {
            "image/png": "[encoded data removed]",
            "text/latex": "$$x - 1$$",
            "text/plain": [
              "x - 1"
            ]
          },
          "metadata": {
            "tags": []
          },
          "execution_count": 35
        }
      ]
    },
    {
      "cell_type": "markdown",
      "metadata": {
        "id": "MY45hx0YKHzc"
      },
      "source": [
        "It can also do special functions"
      ]
    },
    {
      "cell_type": "code",
      "metadata": {
        "id": "KIn4ldUqKHzd",
        "outputId": "4bae7c05-c042-4186-b3f0-3523eb159546"
      },
      "source": [
        "simplify(gamma(x)/gamma(x - 2))"
      ],
      "execution_count": null,
      "outputs": [
        {
          "output_type": "execute_result",
          "data": {
            "image/png": "[encoded data removed]",
            "text/latex": "$$\\left(x - 2\\right) \\left(x - 1\\right)$$",
            "text/plain": [
              "(x - 2)⋅(x - 1)"
            ]
          },
          "metadata": {
            "tags": []
          },
          "execution_count": 36
        }
      ]
    },
    {
      "cell_type": "markdown",
      "metadata": {
        "id": "va9U6nKxKHzg"
      },
      "source": [
        "#### Expansion of simplified forms"
      ]
    },
    {
      "cell_type": "code",
      "metadata": {
        "id": "igWgomUzKHzh",
        "outputId": "8c9d9fc6-ab93-4589-ae89-38014d23b4e6"
      },
      "source": [
        "expand((x + 1)**2)"
      ],
      "execution_count": null,
      "outputs": [
        {
          "output_type": "execute_result",
          "data": {
            "image/png": "[encoded data removed]",
            "text/latex": "$$x^{2} + 2 x + 1$$",
            "text/plain": [
              " 2          \n",
              "x  + 2⋅x + 1"
            ]
          },
          "metadata": {
            "tags": []
          },
          "execution_count": 37
        }
      ]
    },
    {
      "cell_type": "markdown",
      "metadata": {
        "id": "FDA75gIZKHzj"
      },
      "source": [
        "`expand()` will also do apparent cancellation"
      ]
    },
    {
      "cell_type": "code",
      "metadata": {
        "id": "RGUqVv3eKHzj",
        "outputId": "c34db2ee-56cf-4bec-e433-83bf276b7d31"
      },
      "source": [
        "expand((x + 1)*(x - 2) - (x - 1)*x)"
      ],
      "execution_count": null,
      "outputs": [
        {
          "output_type": "execute_result",
          "data": {
            "image/png": "[encoded data removed]",
            "text/latex": "$$-2$$",
            "text/plain": [
              "-2"
            ]
          },
          "metadata": {
            "tags": []
          },
          "execution_count": 38
        }
      ]
    },
    {
      "cell_type": "markdown",
      "metadata": {
        "id": "EX-CCOV-KHzm"
      },
      "source": [
        "#### Numerically evaluate expressions:"
      ]
    },
    {
      "cell_type": "markdown",
      "metadata": {
        "id": "grHDpHieKHzn"
      },
      "source": [
        "For most of the time you can simply call `subs()` or `evalf()` method to do numerical evaluation."
      ]
    },
    {
      "cell_type": "markdown",
      "metadata": {
        "id": "thjFWJagKHzn"
      },
      "source": [
        "`subs()` can substitute a variable by another variable or values"
      ]
    },
    {
      "cell_type": "code",
      "metadata": {
        "id": "kpxpPkTIKHzn",
        "colab": {
          "base_uri": "https://localhost:8080/",
          "height": 38
        },
        "outputId": "f3e89f38-14cd-4a62-93d9-b25c003e32da"
      },
      "source": [
        "expr = cos(x) + 1\n",
        "expr"
      ],
      "execution_count": null,
      "outputs": [
        {
          "output_type": "execute_result",
          "data": {
            "image/png": "[encoded data removed]",
            "text/latex": "$$\\cos{\\left (x \\right )} + 1$$",
            "text/plain": [
              "cos(x) + 1"
            ]
          },
          "metadata": {
            "tags": []
          },
          "execution_count": 26
        }
      ]
    },
    {
      "cell_type": "code",
      "metadata": {
        "id": "IdVx-CvMKHzq",
        "colab": {
          "base_uri": "https://localhost:8080/",
          "height": 38
        },
        "outputId": "1fb0f909-3c70-4a05-acc4-f318a37d08ef"
      },
      "source": [
        "y = symbols('y')\n",
        "expr.subs(x, y)"
      ],
      "execution_count": null,
      "outputs": [
        {
          "output_type": "execute_result",
          "data": {
            "image/png": "[encoded data removed]",
            "text/latex": "$$\\cos{\\left (y \\right )} + 1$$",
            "text/plain": [
              "cos(y) + 1"
            ]
          },
          "metadata": {
            "tags": []
          },
          "execution_count": 27
        }
      ]
    },
    {
      "cell_type": "markdown",
      "metadata": {
        "id": "dvREJJHtKHzs"
      },
      "source": [
        "Note that subs does not alter the original `expr` because expressions are immutable. use `expr = expr.subs(x, y)` if you want to update `expr`"
      ]
    },
    {
      "cell_type": "code",
      "metadata": {
        "id": "k2paEDYaKHzs",
        "colab": {
          "base_uri": "https://localhost:8080/",
          "height": 37
        },
        "outputId": "5495a7bf-25ab-46fc-d4aa-3ae41974a82a"
      },
      "source": [
        "expr.subs(x,1)"
      ],
      "execution_count": null,
      "outputs": [
        {
          "output_type": "execute_result",
          "data": {
            "image/png": "[encoded data removed]",
            "text/latex": "$$\\cos{\\left (1 \\right )} + 1$$",
            "text/plain": [
              "cos(1) + 1"
            ]
          },
          "metadata": {
            "tags": []
          },
          "execution_count": 28
        }
      ]
    },
    {
      "cell_type": "markdown",
      "metadata": {
        "id": "ugM3vL4nKHzt"
      },
      "source": [
        "`evalf()` is used to turn a numerical expression into a floating point number (like the function `N[]` in Mathematica)"
      ]
    },
    {
      "cell_type": "markdown",
      "metadata": {
        "id": "i-DlRu_WKHzu"
      },
      "source": [
        "```Wolfram\n",
        "In[1]: N[Sqrt[2]]\n",
        "Out[2]: 1.41421\n",
        "```"
      ]
    },
    {
      "cell_type": "code",
      "metadata": {
        "id": "di7FJ92hKHzu",
        "colab": {
          "base_uri": "https://localhost:8080/",
          "height": 37
        },
        "outputId": "a1ef6f9d-90f8-4cbe-da79-bf239d384b66"
      },
      "source": [
        "expr = sqrt(8)\n",
        "expr"
      ],
      "execution_count": null,
      "outputs": [
        {
          "output_type": "execute_result",
          "data": {
            "image/png": "[encoded data removed]",
            "text/latex": "$$2 \\sqrt{2}$$",
            "text/plain": [
              "2⋅√2"
            ]
          },
          "metadata": {
            "tags": []
          },
          "execution_count": 30
        }
      ]
    },
    {
      "cell_type": "code",
      "metadata": {
        "id": "L6LBylvmKHzv",
        "colab": {
          "base_uri": "https://localhost:8080/",
          "height": 37
        },
        "outputId": "001cd1ac-c71b-4481-c34d-8d5c9fbd275d"
      },
      "source": [
        "expr.evalf()"
      ],
      "execution_count": null,
      "outputs": [
        {
          "output_type": "execute_result",
          "data": {
            "image/png": "[encoded data removed]",
            "text/latex": "$$2.82842712474619$$",
            "text/plain": [
              "2.82842712474619"
            ]
          },
          "metadata": {
            "tags": []
          },
          "execution_count": 31
        }
      ]
    },
    {
      "cell_type": "markdown",
      "metadata": {
        "id": "QGYTBr_RKHzy"
      },
      "source": [
        "For the <b> many other </b> simplification functions, please check out the official documentation and tutorial. https://docs.sympy.org/latest/tutorial/"
      ]
    },
    {
      "cell_type": "markdown",
      "metadata": {
        "id": "vcfpj_TgKHzz"
      },
      "source": [
        "#### Calculus"
      ]
    },
    {
      "cell_type": "code",
      "metadata": {
        "id": "CtoLvKVGKHzz",
        "colab": {
          "base_uri": "https://localhost:8080/",
          "height": 38
        },
        "outputId": "fd1cdada-68dd-4794-c48d-d6496ee5e9ba"
      },
      "source": [
        "diff(cos(x), x)"
      ],
      "execution_count": null,
      "outputs": [
        {
          "output_type": "execute_result",
          "data": {
            "image/png": "[encoded data removed]",
            "text/latex": "$$- \\sin{\\left (x \\right )}$$",
            "text/plain": [
              "-sin(x)"
            ]
          },
          "metadata": {
            "tags": []
          },
          "execution_count": 32
        }
      ]
    },
    {
      "cell_type": "markdown",
      "metadata": {
        "id": "b1NCKz4wKHz1"
      },
      "source": [
        "$n$th order derivative:"
      ]
    },
    {
      "cell_type": "code",
      "metadata": {
        "id": "arihw6XTKHz1",
        "colab": {
          "base_uri": "https://localhost:8080/",
          "height": 38
        },
        "outputId": "2d4ef45f-63a5-4e08-c0e3-6697f40e22ab"
      },
      "source": [
        "diff(x**4, x, 3)"
      ],
      "execution_count": null,
      "outputs": [
        {
          "output_type": "execute_result",
          "data": {
            "image/png": "[encoded data removed]",
            "text/latex": "$$24 x$$",
            "text/plain": [
              "24⋅x"
            ]
          },
          "metadata": {
            "tags": []
          },
          "execution_count": 33
        }
      ]
    },
    {
      "cell_type": "markdown",
      "metadata": {
        "id": "HM0jB-IAKHz3"
      },
      "source": [
        "Indefinite and definite integrals:"
      ]
    },
    {
      "cell_type": "code",
      "metadata": {
        "id": "XcvM9tNnKHz3",
        "colab": {
          "base_uri": "https://localhost:8080/",
          "height": 38
        },
        "outputId": "c08b4891-37da-4523-e155-1f95ceb6c0c4"
      },
      "source": [
        "integrate(cos(x), x)"
      ],
      "execution_count": null,
      "outputs": [
        {
          "output_type": "execute_result",
          "data": {
            "image/png": "[encoded data removed]",
            "text/latex": "$$\\sin{\\left (x \\right )}$$",
            "text/plain": [
              "sin(x)"
            ]
          },
          "metadata": {
            "tags": []
          },
          "execution_count": 34
        }
      ]
    },
    {
      "cell_type": "code",
      "metadata": {
        "id": "qb5lpB0pKHz6",
        "colab": {
          "base_uri": "https://localhost:8080/",
          "height": 37
        },
        "outputId": "832c01c4-93b0-4792-81ad-477d44381042"
      },
      "source": [
        "integrate(exp(-x), (x, 0, oo))"
      ],
      "execution_count": null,
      "outputs": [
        {
          "output_type": "execute_result",
          "data": {
            "image/png": "[encoded data removed]",
            "text/latex": "$$1$$",
            "text/plain": [
              "1"
            ]
          },
          "metadata": {
            "tags": []
          },
          "execution_count": 35
        }
      ]
    },
    {
      "cell_type": "markdown",
      "metadata": {
        "id": "JNIZKMl1KH0A"
      },
      "source": [
        "<u>Evaluate limits:"
      ]
    },
    {
      "cell_type": "markdown",
      "metadata": {
        "id": "a09xsJ0pKH0A"
      },
      "source": [
        "SymPy can compute symbolic limits with the limit function. The syntax to compute $$\\lim_{x\\rightarrow x_0}f(x)$$ is `limit(f(x), x, x0)`."
      ]
    },
    {
      "cell_type": "code",
      "metadata": {
        "id": "stkNg7yMKH0C",
        "colab": {
          "base_uri": "https://localhost:8080/",
          "height": 37
        },
        "outputId": "66603d1c-3eb2-4d19-9cae-54d252bb3008"
      },
      "source": [
        "limit(sin(x)/x, x, 0)"
      ],
      "execution_count": null,
      "outputs": [
        {
          "output_type": "execute_result",
          "data": {
            "image/png": "[encoded data removed]",
            "text/latex": "$$1$$",
            "text/plain": [
              "1"
            ]
          },
          "metadata": {
            "tags": []
          },
          "execution_count": 36
        }
      ]
    },
    {
      "cell_type": "code",
      "metadata": {
        "id": "fFGJkwBPKH0G",
        "colab": {
          "base_uri": "https://localhost:8080/",
          "height": 37
        },
        "outputId": "c86d10e1-7625-4f44-a3c4-9c18b64789e0"
      },
      "source": [
        "expr = x**2/exp(x)\n",
        "expr.subs(x, oo) # it's two consecutive o"
      ],
      "execution_count": null,
      "outputs": [
        {
          "output_type": "execute_result",
          "data": {
            "image/png": "[encoded data removed]",
            "text/latex": "$$\\mathrm{NaN}$$",
            "text/plain": [
              "nan"
            ]
          },
          "metadata": {
            "tags": []
          },
          "execution_count": 37
        }
      ]
    },
    {
      "cell_type": "markdown",
      "metadata": {
        "id": "iZXX4ky-KH0J"
      },
      "source": [
        "direct substitution of `x` by `infinity` is undefined"
      ]
    },
    {
      "cell_type": "code",
      "metadata": {
        "id": "vTPJwi_9KH0K",
        "colab": {
          "base_uri": "https://localhost:8080/",
          "height": 37
        },
        "outputId": "d6b91227-c05f-4ba3-bb05-c24d81e39119"
      },
      "source": [
        "limit(expr, x, oo)"
      ],
      "execution_count": null,
      "outputs": [
        {
          "output_type": "execute_result",
          "data": {
            "image/png": "[encoded data removed]",
            "text/latex": "$$0$$",
            "text/plain": [
              "0"
            ]
          },
          "metadata": {
            "tags": []
          },
          "execution_count": 38
        }
      ]
    },
    {
      "cell_type": "markdown",
      "metadata": {
        "id": "e4TGTyC-KH0N"
      },
      "source": [
        "### Example: Calculation of series coefficients"
      ]
    },
    {
      "cell_type": "markdown",
      "metadata": {
        "id": "uQ6rQKiNKH0O"
      },
      "source": [
        "For this section we'll provide a concrete example: Computing higher order terms for the solution $y\\sim 1$"
      ]
    },
    {
      "cell_type": "markdown",
      "metadata": {
        "id": "S7KsCG2MKH0O"
      },
      "source": [
        "Recall that our pig-farming equation is: $$\\epsilon y^5-y+1=0$$ Plugging in $y=1+a_1\\epsilon+a_2\\epsilon^2+...+a_n\\epsilon^n$. With Sympy and an effective programming we can evaluate as many terms as we like! (i.e., solve $a_1$,...,$a_n$ for us)\n",
        "\n",
        "But first to get hands-on we just do two terms."
      ]
    },
    {
      "cell_type": "markdown",
      "metadata": {
        "id": "dYL7gP8JKH0O"
      },
      "source": [
        "<div class=\"alert alert-block alert-info\">\n",
        "<b>Tip:</b> Plugging in $y$, expanding the left-hand-side to different orders of $\\epsilon$, and let all coefficients be 0.\n",
        "</div>"
      ]
    },
    {
      "cell_type": "markdown",
      "metadata": {
        "id": "MtRFhwzTKH0P"
      },
      "source": [
        "<div class=\"alert alert-block alert-warning\">\n",
        "<b>Reminder:</b> Declear symbols before doing symbolic calculation\n",
        "</div>"
      ]
    },
    {
      "cell_type": "code",
      "metadata": {
        "id": "vQMidNLSKH0Q"
      },
      "source": [
        "from sympy import *\n",
        "init_printing() #init_printing(use_latex=True)"
      ],
      "execution_count": null,
      "outputs": []
    },
    {
      "cell_type": "code",
      "metadata": {
        "id": "kLHIHdKxKH0R"
      },
      "source": [
        "eps, y, a1, a2= symbols('\\epsilon y a_1 a_2')"
      ],
      "execution_count": null,
      "outputs": []
    },
    {
      "cell_type": "markdown",
      "metadata": {
        "id": "ZmSYo7cuKH0V"
      },
      "source": [
        "Use these symbols to construct the original equation"
      ]
    },
    {
      "cell_type": "code",
      "metadata": {
        "id": "mHKK2_cYKH0W",
        "colab": {
          "base_uri": "https://localhost:8080/",
          "height": 38
        },
        "outputId": "d4930b42-1b0b-4e5b-d81f-607d3c7b82eb"
      },
      "source": [
        "eq=eps*y**5-y+1\n",
        "Eq(eq,0)"
      ],
      "execution_count": null,
      "outputs": [
        {
          "output_type": "execute_result",
          "data": {
            "image/png": "[encoded data removed]",
            "text/latex": "$$\\epsilon y^{5} - y + 1 = 0$$",
            "text/plain": [
              "          5            \n",
              "\\epsilon⋅y  - y + 1 = 0"
            ]
          },
          "metadata": {
            "tags": []
          },
          "execution_count": 4
        }
      ]
    },
    {
      "cell_type": "code",
      "metadata": {
        "id": "07qshjMnP9N0",
        "colab": {
          "base_uri": "https://localhost:8080/",
          "height": 45
        },
        "outputId": "391c642e-af2c-4647-bcd4-7cbb1f17bc35"
      },
      "source": [
        "from sympy import *\n",
        "# other stuff \n",
        "integrate(8*y**Rational(6, 5) - 7*y**Rational(3, 2),y)"
      ],
      "execution_count": null,
      "outputs": [
        {
          "output_type": "execute_result",
          "data": {
            "image/png": "[encoded data removed]",
            "text/latex": "$$\\frac{40 y^{\\frac{11}{5}}}{11} - \\frac{14 y^{\\frac{5}{2}}}{5}$$",
            "text/plain": [
              "    11/5       5/2\n",
              "40⋅y       14⋅y   \n",
              "──────── - ───────\n",
              "   11         5   "
            ]
          },
          "metadata": {
            "tags": []
          },
          "execution_count": 6
        }
      ]
    },
    {
      "cell_type": "markdown",
      "metadata": {
        "id": "9XzzFx6KKH0a"
      },
      "source": [
        "Plugging in $y=1+a_1\\epsilon+a_2\\epsilon^2$"
      ]
    },
    {
      "cell_type": "code",
      "metadata": {
        "id": "V2FAKOEaKH0a",
        "colab": {
          "base_uri": "https://localhost:8080/",
          "height": 41
        },
        "outputId": "d565a78e-5d40-4250-c529-e6788f0e81c6"
      },
      "source": [
        "eq=eq.subs(y,1+a1*eps+a2*eps**2)\n",
        "eq # left-hand-side"
      ],
      "execution_count": null,
      "outputs": [
        {
          "output_type": "execute_result",
          "data": {
            "image/png": "[encoded data removed]",
            "text/latex": "$$- \\epsilon^{2} a_{2} - \\epsilon a_{1} + \\epsilon \\left(\\epsilon^{2} a_{2} + \\epsilon a_{1} + 1\\right)^{5}$$",
            "text/plain": [
              "                                                                        5\n",
              "          2                             ⎛        2                     ⎞ \n",
              "- \\epsilon ⋅a₂ - \\epsilon⋅a₁ + \\epsilon⋅⎝\\epsilon ⋅a₂ + \\epsilon⋅a₁ + 1⎠ "
            ]
          },
          "metadata": {
            "tags": []
          },
          "execution_count": 43
        }
      ]
    },
    {
      "cell_type": "markdown",
      "metadata": {
        "id": "cVeKjrrbKH0e"
      },
      "source": [
        "<div class=\"alert alert-block alert-warning\">\n",
        "<b>Reminder:</b> `subs()` method does not change the original equation (immutable) so we should re-assign it.\n",
        "</div>"
      ]
    },
    {
      "cell_type": "markdown",
      "metadata": {
        "id": "rsZmE8UEKH0e"
      },
      "source": [
        "Picking out the terms with different orders of $\\epsilon$"
      ]
    },
    {
      "cell_type": "code",
      "metadata": {
        "id": "2bbTT-o8KH0e"
      },
      "source": [
        "order1=eq.series(eps,0,2).removeO()\n",
        "order2=eq.series(eps,0,3).removeO()-eq.series(eps,0,2).removeO()"
      ],
      "execution_count": null,
      "outputs": []
    },
    {
      "cell_type": "code",
      "metadata": {
        "id": "fuqMQkaNKH0f",
        "colab": {
          "base_uri": "https://localhost:8080/",
          "height": 38
        },
        "outputId": "8c44377d-0d5e-4693-8004-ec65354ebecb"
      },
      "source": [
        "order1 #epsilon^1 term"
      ],
      "execution_count": null,
      "outputs": [
        {
          "output_type": "execute_result",
          "data": {
            "image/png": "[encoded data removed]",
            "text/latex": "$$\\epsilon \\left(- a_{1} + 1\\right)$$",
            "text/plain": [
              "\\epsilon⋅(-a₁ + 1)"
            ]
          },
          "metadata": {
            "tags": []
          },
          "execution_count": 45
        }
      ]
    },
    {
      "cell_type": "code",
      "metadata": {
        "id": "qHJf178pKH0g",
        "colab": {
          "base_uri": "https://localhost:8080/",
          "height": 38
        },
        "outputId": "cdbf79a4-e7ad-418a-f220-62a9fe53d7be"
      },
      "source": [
        "order2 #epsilon^2 term"
      ],
      "execution_count": null,
      "outputs": [
        {
          "output_type": "execute_result",
          "data": {
            "image/png": "[encoded data removed]",
            "text/latex": "$$\\epsilon^{2} \\left(5 a_{1} - a_{2}\\right)$$",
            "text/plain": [
              "        2            \n",
              "\\epsilon ⋅(5⋅a₁ - a₂)"
            ]
          },
          "metadata": {
            "tags": []
          },
          "execution_count": 46
        }
      ]
    },
    {
      "cell_type": "markdown",
      "metadata": {
        "id": "k2qiN7QBKH0i"
      },
      "source": [
        "```(eps,0,2)``` means expanding $\\epsilon$ from $\\epsilon=0$ and up to 2 terms ($\\epsilon^0$ and $\\epsilon^1$ term). The $\\epsilon^0$ here is zero.\n",
        "\n",
        "Similarly, order2 gives the $\\epsilon^2$ term. Finally, we use the solvers provided by Sympy to symbolically solve for $a_1$ and $a_2$"
      ]
    },
    {
      "cell_type": "code",
      "metadata": {
        "id": "5C-VcA7JKH0i",
        "colab": {
          "base_uri": "https://localhost:8080/",
          "height": 38
        },
        "outputId": "b44dbcf2-cd6e-445d-8ed2-c30e58fe3eed"
      },
      "source": [
        "solve([order1,order2],{a1,a2})"
      ],
      "execution_count": null,
      "outputs": [
        {
          "output_type": "execute_result",
          "data": {
            "image/png": "[encoded data removed]",
            "text/latex": "$$\\left \\{ a_{1} : 1, \\quad a_{2} : 5\\right \\}$$",
            "text/plain": [
              "{a₁: 1, a₂: 5}"
            ]
          },
          "metadata": {
            "tags": []
          },
          "execution_count": 47
        }
      ]
    },
    {
      "cell_type": "markdown",
      "metadata": {
        "id": "JdN9zldOKH0j"
      },
      "source": [
        "which gives us the answer of a three-term asymptotic solution $$y=1+\\epsilon+5\\epsilon^2$$"
      ]
    },
    {
      "cell_type": "code",
      "metadata": {
        "id": "fFpT6r4AKH0j"
      },
      "source": [
        "# look for help(solve) or go to Sympy documentation to learn more."
      ],
      "execution_count": null,
      "outputs": []
    },
    {
      "cell_type": "markdown",
      "metadata": {
        "id": "mOxERQ_5KH0o"
      },
      "source": [
        "Aha. Seems cool. But what about if you want <b> 5 terms </b>? Let's do the same thing again."
      ]
    },
    {
      "cell_type": "code",
      "metadata": {
        "id": "mPI7vKK-KH0o"
      },
      "source": [
        "eps, y, a1, a2, a3, a4, a5= symbols('\\epsilon y a_1 a_2 a_3 a_4 a_5')"
      ],
      "execution_count": null,
      "outputs": []
    },
    {
      "cell_type": "code",
      "metadata": {
        "id": "N7YpOldHKH0q"
      },
      "source": [
        "eq=eps*y**5-y+1\n",
        "eq=eq.subs(y,1+a1*eps+a2*eps**2+a3*eps**3+a4*eps**4+a5*eps**5) #a bit tedious to type"
      ],
      "execution_count": null,
      "outputs": []
    },
    {
      "cell_type": "code",
      "metadata": {
        "id": "iXaLoN46KH0u"
      },
      "source": [
        "order1=eq.series(eps,0,2).removeO()\n",
        "order2=eq.series(eps,0,3).removeO()-eq.series(eps,0,2).removeO()\n",
        "order3=eq.series(eps,0,4).removeO()-eq.series(eps,0,3).removeO()\n",
        "order4=eq.series(eps,0,5).removeO()-eq.series(eps,0,4).removeO()\n",
        "order5=eq.series(eps,0,6).removeO()-eq.series(eps,0,5).removeO()"
      ],
      "execution_count": null,
      "outputs": []
    },
    {
      "cell_type": "code",
      "metadata": {
        "id": "saS-MxszKH0w",
        "colab": {
          "base_uri": "https://localhost:8080/",
          "height": 38
        },
        "outputId": "2587426f-7afa-402b-fc71-b0f9ed0688e8"
      },
      "source": [
        "[order1, order2, order3, order4, order5]"
      ],
      "execution_count": null,
      "outputs": [
        {
          "output_type": "execute_result",
          "data": {
            "image/png": "[encoded data removed]",
            "text/latex": "$$\\left [ \\epsilon \\left(- a_{1} + 1\\right), \\quad \\epsilon^{2} \\left(5 a_{1} - a_{2}\\right), \\quad \\epsilon^{3} \\left(10 a_{1}^{2} + 5 a_{2} - a_{3}\\right), \\quad \\epsilon^{4} \\left(10 a_{1}^{3} + 20 a_{1} a_{2} + 5 a_{3} - a_{4}\\right), \\quad \\epsilon^{5} \\left(5 a_{1}^{4} + 30 a_{1}^{2} a_{2} + 20 a_{1} a_{3} + 10 a_{2}^{2} + 5 a_{4} - a_{5}\\right)\\right ]$$",
            "text/plain": [
              "⎡                            2                      3 ⎛     2            ⎞    \n",
              "⎣\\epsilon⋅(-a₁ + 1), \\epsilon ⋅(5⋅a₁ - a₂), \\epsilon ⋅⎝10⋅a₁  + 5⋅a₂ - a₃⎠, \\e\n",
              "\n",
              "      4 ⎛     3                       ⎞          5 ⎛    4        2            \n",
              "psilon ⋅⎝10⋅a₁  + 20⋅a₁⋅a₂ + 5⋅a₃ - a₄⎠, \\epsilon ⋅⎝5⋅a₁  + 30⋅a₁ ⋅a₂ + 20⋅a₁⋅\n",
              "\n",
              "          2            ⎞⎤\n",
              "a₃ + 10⋅a₂  + 5⋅a₄ - a₅⎠⎦"
            ]
          },
          "metadata": {
            "tags": []
          },
          "execution_count": 51
        }
      ]
    },
    {
      "cell_type": "code",
      "metadata": {
        "id": "V-tYsA1sKH0x",
        "colab": {
          "base_uri": "https://localhost:8080/",
          "height": 38
        },
        "outputId": "90b9e820-fc77-4c97-a829-6616efccdf1a"
      },
      "source": [
        "solve([order1,order2,order3,order4,order5],{a1,a2,a3,a4,a5})"
      ],
      "execution_count": null,
      "outputs": [
        {
          "output_type": "execute_result",
          "data": {
            "image/png": "[encoded data removed]",
            "text/latex": "$$\\left [ \\left \\{ a_{1} : 1, \\quad a_{2} : 5, \\quad a_{3} : 35, \\quad a_{4} : 285, \\quad a_{5} : 2530\\right \\}\\right ]$$",
            "text/plain": [
              "[{a₁: 1, a₂: 5, a₃: 35, a₄: 285, a₅: 2530}]"
            ]
          },
          "metadata": {
            "tags": []
          },
          "execution_count": 52
        }
      ]
    },
    {
      "cell_type": "markdown",
      "metadata": {
        "id": "gnUOTGZYKH0y"
      },
      "source": [
        "Tedious and awkard, right? You may still have the patience to type 5 terms, <b> but what about 20 terms? arbitrary number of terms? </b> This is where the concise and convenient list comprehension come into play. Suppose we want $n_{term}=6$ terms (up to $\\epsilon^{6}$ in order to save time. This calculation is slow.)."
      ]
    },
    {
      "cell_type": "markdown",
      "metadata": {
        "id": "ERLQwgfmKH0y"
      },
      "source": [
        "First, we construct the symbols using list comprehension"
      ]
    },
    {
      "cell_type": "code",
      "metadata": {
        "id": "gMC_jXqVKH0z",
        "colab": {
          "base_uri": "https://localhost:8080/",
          "height": 38
        },
        "outputId": "48518763-4383-4419-cd48-f9f5d5bab4ee"
      },
      "source": [
        "eps, y= symbols('\\epsilon y')\n",
        "n_terms=6 #in principle any number you like. Use 6 because this calulation is rather slow\n",
        "a=[symbols('a'+str(i)) for i in range(1,n_terms+1)]\n",
        "a"
      ],
      "execution_count": null,
      "outputs": [
        {
          "output_type": "execute_result",
          "data": {
            "image/png": "[encoded data removed]",
            "text/latex": "$$\\left [ a_{1}, \\quad a_{2}, \\quad a_{3}, \\quad a_{4}, \\quad a_{5}, \\quad a_{6}\\right ]$$",
            "text/plain": [
              "[a₁, a₂, a₃, a₄, a₅, a₆]"
            ]
          },
          "metadata": {
            "tags": []
          },
          "execution_count": 53
        }
      ]
    },
    {
      "cell_type": "markdown",
      "metadata": {
        "id": "cj5Jqi7qKH00"
      },
      "source": [
        "We used list comprehension to generate the symbol list."
      ]
    },
    {
      "cell_type": "code",
      "metadata": {
        "id": "6F69zQi6KH00"
      },
      "source": [
        "import numpy as np\n",
        "eq=eps*y**5-y+1\n",
        "eq=eq.subs(y,1+np.sum([a[i]*eps**(i+1) for i in range(n_terms)]))"
      ],
      "execution_count": null,
      "outputs": []
    },
    {
      "cell_type": "markdown",
      "metadata": {
        "id": "cUDDS0-3KH01"
      },
      "source": [
        "We also used list comprehension to write long expressions:"
      ]
    },
    {
      "cell_type": "code",
      "metadata": {
        "id": "CaCxNJ6CKH01",
        "colab": {
          "base_uri": "https://localhost:8080/",
          "height": 38
        },
        "outputId": "16dc4c26-8996-4ac3-e50a-b43a698061f7"
      },
      "source": [
        "1+np.sum([a[i]*eps**(i+1) for i in range(n_terms)])"
      ],
      "execution_count": null,
      "outputs": [
        {
          "output_type": "execute_result",
          "data": {
            "image/png": "[encoded data removed]",
            "text/latex": "$$\\epsilon^{6} a_{6} + \\epsilon^{5} a_{5} + \\epsilon^{4} a_{4} + \\epsilon^{3} a_{3} + \\epsilon^{2} a_{2} + \\epsilon a_{1} + 1$$",
            "text/plain": [
              "        6              5              4              3              2         \n",
              "\\epsilon ⋅a₆ + \\epsilon ⋅a₅ + \\epsilon ⋅a₄ + \\epsilon ⋅a₃ + \\epsilon ⋅a₂ + \\ep\n",
              "\n",
              "            \n",
              "silon⋅a₁ + 1"
            ]
          },
          "metadata": {
            "tags": []
          },
          "execution_count": 56
        }
      ]
    },
    {
      "cell_type": "markdown",
      "metadata": {
        "id": "6KkhfucxKH03"
      },
      "source": [
        "To see what the equation looks like,"
      ]
    },
    {
      "cell_type": "code",
      "metadata": {
        "id": "OfOoOwAPKH03",
        "colab": {
          "base_uri": "https://localhost:8080/",
          "height": 41
        },
        "outputId": "598b810d-2408-48de-baf0-892d71edec2b"
      },
      "source": [
        "eq"
      ],
      "execution_count": null,
      "outputs": [
        {
          "output_type": "execute_result",
          "data": {
            "image/png": "[encoded data removed]",
            "text/latex": "$$- \\epsilon^{6} a_{6} - \\epsilon^{5} a_{5} - \\epsilon^{4} a_{4} - \\epsilon^{3} a_{3} - \\epsilon^{2} a_{2} - \\epsilon a_{1} + \\epsilon \\left(\\epsilon^{6} a_{6} + \\epsilon^{5} a_{5} + \\epsilon^{4} a_{4} + \\epsilon^{3} a_{3} + \\epsilon^{2} a_{2} + \\epsilon a_{1} + 1\\right)^{5}$$",
            "text/plain": [
              "                                                                              \n",
              "          6              5              4              3              2       \n",
              "- \\epsilon ⋅a₆ - \\epsilon ⋅a₅ - \\epsilon ⋅a₄ - \\epsilon ⋅a₃ - \\epsilon ⋅a₂ - \\\n",
              "\n",
              "                                                                              \n",
              "                      ⎛        6              5              4              3 \n",
              "epsilon⋅a₁ + \\epsilon⋅⎝\\epsilon ⋅a₆ + \\epsilon ⋅a₅ + \\epsilon ⋅a₄ + \\epsilon ⋅\n",
              "\n",
              "                                    5\n",
              "             2                     ⎞ \n",
              "a₃ + \\epsilon ⋅a₂ + \\epsilon⋅a₁ + 1⎠ "
            ]
          },
          "metadata": {
            "tags": []
          },
          "execution_count": 57
        }
      ]
    },
    {
      "cell_type": "code",
      "metadata": {
        "id": "t8V9SL9hKH05"
      },
      "source": [
        "orders=[eq.series(eps,0,i).removeO() for i in range(2,n_terms+2)]"
      ],
      "execution_count": null,
      "outputs": []
    },
    {
      "cell_type": "markdown",
      "metadata": {
        "id": "Jsix7XmRKH08"
      },
      "source": [
        "List comprehension again to calculate every order"
      ]
    },
    {
      "cell_type": "markdown",
      "metadata": {
        "id": "Qn8mpc-RKH08"
      },
      "source": [
        "It gets us terms up to order $\\epsilon^{i-1}$ (remember `range(a,b)` includes `a` but not `b`"
      ]
    },
    {
      "cell_type": "code",
      "metadata": {
        "id": "6nwkX0hKKH09",
        "colab": {
          "base_uri": "https://localhost:8080/",
          "height": 58
        },
        "outputId": "1b41ff4a-09af-4662-9eac-69793ce1c160"
      },
      "source": [
        "orders"
      ],
      "execution_count": null,
      "outputs": [
        {
          "output_type": "execute_result",
          "data": {
            "image/png": "[encoded data removed]",
            "text/latex": "$$\\left [ \\epsilon \\left(- a_{1} + 1\\right), \\quad \\epsilon^{2} \\left(5 a_{1} - a_{2}\\right) + \\epsilon \\left(- a_{1} + 1\\right), \\quad \\epsilon^{3} \\left(10 a_{1}^{2} + 5 a_{2} - a_{3}\\right) + \\epsilon^{2} \\left(5 a_{1} - a_{2}\\right) + \\epsilon \\left(- a_{1} + 1\\right), \\quad \\epsilon^{4} \\left(10 a_{1}^{3} + 20 a_{1} a_{2} + 5 a_{3} - a_{4}\\right) + \\epsilon^{3} \\left(10 a_{1}^{2} + 5 a_{2} - a_{3}\\right) + \\epsilon^{2} \\left(5 a_{1} - a_{2}\\right) + \\epsilon \\left(- a_{1} + 1\\right), \\quad \\epsilon^{5} \\left(5 a_{1}^{4} + 30 a_{1}^{2} a_{2} + 20 a_{1} a_{3} + 10 a_{2}^{2} + 5 a_{4} - a_{5}\\right) + \\epsilon^{4} \\left(10 a_{1}^{3} + 20 a_{1} a_{2} + 5 a_{3} - a_{4}\\right) + \\epsilon^{3} \\left(10 a_{1}^{2} + 5 a_{2} - a_{3}\\right) + \\epsilon^{2} \\left(5 a_{1} - a_{2}\\right) + \\epsilon \\left(- a_{1} + 1\\right), \\quad \\epsilon^{6} \\left(a_{1}^{5} + 20 a_{1}^{3} a_{2} + 30 a_{1}^{2} a_{3} + 30 a_{1} a_{2}^{2} + 20 a_{1} a_{4} + 20 a_{2} a_{3} + 5 a_{5} - a_{6}\\right) + \\epsilon^{5} \\left(5 a_{1}^{4} + 30 a_{1}^{2} a_{2} + 20 a_{1} a_{3} + 10 a_{2}^{2} + 5 a_{4} - a_{5}\\right) + \\epsilon^{4} \\left(10 a_{1}^{3} + 20 a_{1} a_{2} + 5 a_{3} - a_{4}\\right) + \\epsilon^{3} \\left(10 a_{1}^{2} + 5 a_{2} - a_{3}\\right) + \\epsilon^{2} \\left(5 a_{1} - a_{2}\\right) + \\epsilon \\left(- a_{1} + 1\\right)\\right ]$$",
            "text/plain": [
              "⎡                            2                                           3 ⎛  \n",
              "⎣\\epsilon⋅(-a₁ + 1), \\epsilon ⋅(5⋅a₁ - a₂) + \\epsilon⋅(-a₁ + 1), \\epsilon ⋅⎝10\n",
              "\n",
              "   2            ⎞           2                                           4 ⎛   \n",
              "⋅a₁  + 5⋅a₂ - a₃⎠ + \\epsilon ⋅(5⋅a₁ - a₂) + \\epsilon⋅(-a₁ + 1), \\epsilon ⋅⎝10⋅\n",
              "\n",
              "  3                       ⎞           3 ⎛     2            ⎞           2      \n",
              "a₁  + 20⋅a₁⋅a₂ + 5⋅a₃ - a₄⎠ + \\epsilon ⋅⎝10⋅a₁  + 5⋅a₂ - a₃⎠ + \\epsilon ⋅(5⋅a₁\n",
              "\n",
              "                                     5 ⎛    4        2                      2 \n",
              " - a₂) + \\epsilon⋅(-a₁ + 1), \\epsilon ⋅⎝5⋅a₁  + 30⋅a₁ ⋅a₂ + 20⋅a₁⋅a₃ + 10⋅a₂  \n",
              "\n",
              "           ⎞           4 ⎛     3                       ⎞           3 ⎛     2  \n",
              "+ 5⋅a₄ - a₅⎠ + \\epsilon ⋅⎝10⋅a₁  + 20⋅a₁⋅a₂ + 5⋅a₃ - a₄⎠ + \\epsilon ⋅⎝10⋅a₁  +\n",
              "\n",
              "          ⎞           2                                           6 ⎛  5      \n",
              " 5⋅a₂ - a₃⎠ + \\epsilon ⋅(5⋅a₁ - a₂) + \\epsilon⋅(-a₁ + 1), \\epsilon ⋅⎝a₁  + 20⋅\n",
              "\n",
              "  3           2              2                                  ⎞           5 \n",
              "a₁ ⋅a₂ + 30⋅a₁ ⋅a₃ + 30⋅a₁⋅a₂  + 20⋅a₁⋅a₄ + 20⋅a₂⋅a₃ + 5⋅a₅ - a₆⎠ + \\epsilon ⋅\n",
              "\n",
              "⎛    4        2                      2            ⎞           4 ⎛     3       \n",
              "⎝5⋅a₁  + 30⋅a₁ ⋅a₂ + 20⋅a₁⋅a₃ + 10⋅a₂  + 5⋅a₄ - a₅⎠ + \\epsilon ⋅⎝10⋅a₁  + 20⋅a\n",
              "\n",
              "                ⎞           3 ⎛     2            ⎞           2                \n",
              "₁⋅a₂ + 5⋅a₃ - a₄⎠ + \\epsilon ⋅⎝10⋅a₁  + 5⋅a₂ - a₃⎠ + \\epsilon ⋅(5⋅a₁ - a₂) + \\\n",
              "\n",
              "                 ⎤\n",
              "epsilon⋅(-a₁ + 1)⎦"
            ]
          },
          "metadata": {
            "tags": []
          },
          "execution_count": 59
        }
      ]
    },
    {
      "cell_type": "code",
      "metadata": {
        "id": "IDLXpMZmKH0-"
      },
      "source": [
        "orders_indiv=[orders[0]]+[orders[i]-orders[i-1] for i in range(1,n_terms)]"
      ],
      "execution_count": null,
      "outputs": []
    },
    {
      "cell_type": "markdown",
      "metadata": {
        "id": "HfDV7XyAKH0_"
      },
      "source": [
        "We can visualize the individual terms"
      ]
    },
    {
      "cell_type": "code",
      "metadata": {
        "id": "LsEdshsuKH0_",
        "colab": {
          "base_uri": "https://localhost:8080/",
          "height": 58
        },
        "outputId": "616f8c72-6457-4068-9582-29075cf62a4d"
      },
      "source": [
        "orders_indiv"
      ],
      "execution_count": null,
      "outputs": [
        {
          "output_type": "execute_result",
          "data": {
            "image/png": "[encoded data removed]",
            "text/latex": "$$\\left [ \\epsilon \\left(- a_{1} + 1\\right), \\quad \\epsilon^{2} \\left(5 a_{1} - a_{2}\\right), \\quad \\epsilon^{3} \\left(10 a_{1}^{2} + 5 a_{2} - a_{3}\\right), \\quad \\epsilon^{4} \\left(10 a_{1}^{3} + 20 a_{1} a_{2} + 5 a_{3} - a_{4}\\right), \\quad \\epsilon^{5} \\left(5 a_{1}^{4} + 30 a_{1}^{2} a_{2} + 20 a_{1} a_{3} + 10 a_{2}^{2} + 5 a_{4} - a_{5}\\right), \\quad \\epsilon^{6} \\left(a_{1}^{5} + 20 a_{1}^{3} a_{2} + 30 a_{1}^{2} a_{3} + 30 a_{1} a_{2}^{2} + 20 a_{1} a_{4} + 20 a_{2} a_{3} + 5 a_{5} - a_{6}\\right)\\right ]$$",
            "text/plain": [
              "⎡                            2                      3 ⎛     2            ⎞    \n",
              "⎣\\epsilon⋅(-a₁ + 1), \\epsilon ⋅(5⋅a₁ - a₂), \\epsilon ⋅⎝10⋅a₁  + 5⋅a₂ - a₃⎠, \\e\n",
              "\n",
              "      4 ⎛     3                       ⎞          5 ⎛    4        2            \n",
              "psilon ⋅⎝10⋅a₁  + 20⋅a₁⋅a₂ + 5⋅a₃ - a₄⎠, \\epsilon ⋅⎝5⋅a₁  + 30⋅a₁ ⋅a₂ + 20⋅a₁⋅\n",
              "\n",
              "          2            ⎞          6 ⎛  5        3           2              2  \n",
              "a₃ + 10⋅a₂  + 5⋅a₄ - a₅⎠, \\epsilon ⋅⎝a₁  + 20⋅a₁ ⋅a₂ + 30⋅a₁ ⋅a₃ + 30⋅a₁⋅a₂  +\n",
              "\n",
              "                                ⎞⎤\n",
              " 20⋅a₁⋅a₄ + 20⋅a₂⋅a₃ + 5⋅a₅ - a₆⎠⎦"
            ]
          },
          "metadata": {
            "tags": []
          },
          "execution_count": 61
        }
      ]
    },
    {
      "cell_type": "code",
      "metadata": {
        "id": "jnbLEVlHKH1A",
        "colab": {
          "base_uri": "https://localhost:8080/",
          "height": 38
        },
        "outputId": "2f0934b9-1313-4c83-d1df-ad99de130b48"
      },
      "source": [
        "solve(orders_indiv,set(a))"
      ],
      "execution_count": null,
      "outputs": [
        {
          "output_type": "execute_result",
          "data": {
            "image/png": "[encoded data removed]",
            "text/latex": "$$\\left [ \\left \\{ a_{1} : 1, \\quad a_{2} : 5, \\quad a_{3} : 35, \\quad a_{4} : 285, \\quad a_{5} : 2530, \\quad a_{6} : 23751\\right \\}\\right ]$$",
            "text/plain": [
              "[{a₁: 1, a₂: 5, a₃: 35, a₄: 285, a₅: 2530, a₆: 23751}]"
            ]
          },
          "metadata": {
            "tags": []
          },
          "execution_count": 62
        }
      ]
    },
    {
      "cell_type": "markdown",
      "metadata": {
        "id": "ntFA1Z97KH1C"
      },
      "source": [
        "Actually, here I realize separating the individual terms is not necessary, since all the subtracted terms are all zero, as we can see below"
      ]
    },
    {
      "cell_type": "code",
      "metadata": {
        "id": "4RAcnublKH1E",
        "outputId": "6a013e70-0852-46c4-ef0b-a84659fb14c8"
      },
      "source": [
        "solve(orders,set(a))"
      ],
      "execution_count": null,
      "outputs": [
        {
          "output_type": "execute_result",
          "data": {
            "image/png": "[encoded data removed]",
            "text/latex": "$$\\left [ \\left \\{ a_{1} : 1, \\quad a_{2} : 5, \\quad a_{3} : 35, \\quad a_{4} : 285, \\quad a_{5} : 2530, \\quad a_{6} : 23751\\right \\}\\right ]$$",
            "text/plain": [
              "[{a₁: 1, a₂: 5, a₃: 35, a₄: 285, a₅: 2530, a₆: 23751}]"
            ]
          },
          "metadata": {
            "tags": []
          },
          "execution_count": 74
        }
      ]
    },
    {
      "cell_type": "markdown",
      "metadata": {
        "id": "tBbeiQv0KH1F"
      },
      "source": [
        "Here I turn `a` into set because this will make the result a dictionary, which is easier to read and use. If I don't do so the output is a list with a tuple as its element:"
      ]
    },
    {
      "cell_type": "code",
      "metadata": {
        "id": "_KzwDWnoKH1F",
        "outputId": "096660fa-83b2-436d-b035-d7bdfd6903f0"
      },
      "source": [
        "solve(orders,a)"
      ],
      "execution_count": null,
      "outputs": [
        {
          "output_type": "execute_result",
          "data": {
            "image/png": "[encoded data removed]",
            "text/latex": "$$\\left [ \\left ( 1, \\quad 5, \\quad 35, \\quad 285, \\quad 2530, \\quad 23751\\right )\\right ]$$",
            "text/plain": [
              "[(1, 5, 35, 285, 2530, 23751)]"
            ]
          },
          "metadata": {
            "tags": []
          },
          "execution_count": 75
        }
      ]
    },
    {
      "cell_type": "markdown",
      "metadata": {
        "id": "3maTuXK6KH1I"
      },
      "source": [
        "If you provide a as a set, it will output a dictionary which makes the result clearer to read. The last version of code with list comprehension is definitely more efficient then previous versions, and are easily transferable from case to case where the interested number of terms are different."
      ]
    },
    {
      "cell_type": "markdown",
      "metadata": {
        "id": "uRc9ueMnKH1I"
      },
      "source": [
        "Since we have solved it, here we provide an example of dictionary. First we notice that the solusion is still a list, with a dictionary being its 0th element. So we slices this 0th element:"
      ]
    },
    {
      "cell_type": "code",
      "metadata": {
        "id": "cEy26mDmKH1K",
        "outputId": "23ac570c-4583-477f-9f32-04c33e9bce84"
      },
      "source": [
        "solu=solve(orders,set(a))[0]\n",
        "solu"
      ],
      "execution_count": null,
      "outputs": [
        {
          "output_type": "execute_result",
          "data": {
            "image/png": "[encoded data removed]",
            "text/latex": "$$\\left \\{ a_{1} : 1, \\quad a_{2} : 5, \\quad a_{3} : 35, \\quad a_{4} : 285, \\quad a_{5} : 2530, \\quad a_{6} : 23751\\right \\}$$",
            "text/plain": [
              "{a₁: 1, a₂: 5, a₃: 35, a₄: 285, a₅: 2530, a₆: 23751}"
            ]
          },
          "metadata": {
            "tags": []
          },
          "execution_count": 76
        }
      ]
    },
    {
      "cell_type": "markdown",
      "metadata": {
        "id": "3Bi0cL6jKH1L"
      },
      "source": [
        "Its type, as expected, is"
      ]
    },
    {
      "cell_type": "code",
      "metadata": {
        "id": "WpUC3MS7KH1M",
        "outputId": "9987388d-f685-4254-aa99-a77a8a1c7d48"
      },
      "source": [
        "type(solu)"
      ],
      "execution_count": null,
      "outputs": [
        {
          "output_type": "execute_result",
          "data": {
            "text/plain": [
              "dict"
            ]
          },
          "metadata": {
            "tags": []
          },
          "execution_count": 77
        }
      ]
    },
    {
      "cell_type": "markdown",
      "metadata": {
        "id": "_AAnVW90KH1N"
      },
      "source": [
        "Now let's play with it. Type `solu.` and then hit `tab` you can see all the methods of dictionary (also the methods of `solu`, which is an instance of dictionary)"
      ]
    },
    {
      "cell_type": "code",
      "metadata": {
        "id": "PfPUZx2JKH1N",
        "outputId": "b9dbeabe-b8a0-429a-d0a4-021a5e9bb7dd"
      },
      "source": [
        "solu.items()"
      ],
      "execution_count": null,
      "outputs": [
        {
          "output_type": "execute_result",
          "data": {
            "text/plain": [
              "dict_items([(a2, 5), (a3, 35), (a6, 23751), (a5, 2530), (a1, 1), (a4, 285)])"
            ]
          },
          "metadata": {
            "tags": []
          },
          "execution_count": 78
        }
      ]
    },
    {
      "cell_type": "code",
      "metadata": {
        "id": "6mh2gxb4KH1P",
        "outputId": "eed257d4-43aa-4c22-d8f5-7067825ad46c"
      },
      "source": [
        "solu.keys()"
      ],
      "execution_count": null,
      "outputs": [
        {
          "output_type": "execute_result",
          "data": {
            "text/plain": [
              "dict_keys([a2, a3, a6, a5, a1, a4])"
            ]
          },
          "metadata": {
            "tags": []
          },
          "execution_count": 79
        }
      ]
    },
    {
      "cell_type": "code",
      "metadata": {
        "id": "p1gmgjheKH1Q",
        "outputId": "741b6cbc-64ec-46e4-cda1-97ea81b69e38"
      },
      "source": [
        "solu.values()"
      ],
      "execution_count": null,
      "outputs": [
        {
          "output_type": "execute_result",
          "data": {
            "text/plain": [
              "dict_values([5, 35, 23751, 2530, 1, 285])"
            ]
          },
          "metadata": {
            "tags": []
          },
          "execution_count": 80
        }
      ]
    },
    {
      "cell_type": "code",
      "metadata": {
        "id": "WiFDyhL4KH1R",
        "outputId": "343b0418-b4aa-422f-ad2d-57d78ffb8409"
      },
      "source": [
        "solu.update({\"something strange\":0}) # something strange with value 0 is added\n",
        "solu"
      ],
      "execution_count": null,
      "outputs": [
        {
          "output_type": "execute_result",
          "data": {
            "text/plain": [
              "{a1: 1, a2: 5, a3: 35, a4: 285, a5: 2530, a6: 23751, 'something strange': 0}"
            ]
          },
          "metadata": {
            "tags": []
          },
          "execution_count": 81
        }
      ]
    },
    {
      "cell_type": "markdown",
      "metadata": {
        "id": "l0PDN1hsKH1S"
      },
      "source": [
        "## V. matplotlib"
      ]
    },
    {
      "cell_type": "markdown",
      "metadata": {
        "id": "YI78QPyLKH1S"
      },
      "source": [
        "We will for the most of time use it to generate 2D plots. In the rare case of multiple parameters and if you are interested, 3D plots may also be helpful.\n",
        "\n",
        "Key points for using matplotlib:\n",
        "1. 2D line and curves\n",
        "2. Adjusting colors, thickness, dash/dot and other plotting styles\n",
        "3. Adjusting plot ranges\n",
        "4. Making multiple plots on the same graph; adding plot legend\n",
        "5. Save graphs"
      ]
    },
    {
      "cell_type": "markdown",
      "metadata": {
        "id": "QnWPEeBsKH1S"
      },
      "source": [
        "All these points will be illustrated in the example right below"
      ]
    },
    {
      "cell_type": "markdown",
      "metadata": {
        "id": "3-GWI26fKH1T"
      },
      "source": [
        "Usually we don't need to use the entire `matplotlib` package. So we do\n",
        "```python\n",
        "import matplotlib.pyplot as plt\n",
        "```"
      ]
    },
    {
      "cell_type": "markdown",
      "metadata": {
        "id": "jL7BJULiKH1T"
      },
      "source": [
        "## Integrated example: Polynomial equation"
      ]
    },
    {
      "cell_type": "markdown",
      "metadata": {
        "id": "5b8KbP13KH1V"
      },
      "source": [
        "This example comes from the equation we encountered in Wed's course, the Eq. (2.14) in the text:\n",
        "$$\\epsilon y^5-y+1=0$$\n",
        "We are now going to find it's <b> positive, real </b> roots and plot the comparison between numerical solution and analytical solution."
      ]
    },
    {
      "cell_type": "code",
      "metadata": {
        "id": "1bwVYNuaKH1V"
      },
      "source": [
        "import numpy as np\n",
        "import matplotlib.pyplot as plt\n",
        "from sympy import *\n",
        "init_printing()"
      ],
      "execution_count": null,
      "outputs": []
    },
    {
      "cell_type": "markdown",
      "metadata": {
        "id": "BbHrZwOBKH1W"
      },
      "source": [
        "For the <b> numerical </b> solution,"
      ]
    },
    {
      "cell_type": "code",
      "metadata": {
        "id": "0_I5O_QNKH1Y"
      },
      "source": [
        "eps_num=[pow(10,eps) for eps in np.arange(-6,-1.2,0.001)];\n",
        "y_num=[[np.real(root) for root in np.roots([eps,0,0,0,-1,1]) if np.imag(root)==0] for eps in eps_num];\n",
        "y_pos=[[yi for yi in y if yi>0] for y in y_num]; #Positive roots#"
      ],
      "execution_count": null,
      "outputs": []
    },
    {
      "cell_type": "markdown",
      "metadata": {
        "id": "lmcuT95pKH1Z"
      },
      "source": [
        "Here we can see again that \n",
        "- you can iterate on numpy arrays generated by `np.linspace` without having to convert them into list. You can also use `range()`.  \n",
        "- It is easily reconizable that `np.real()` and `np.imag()` gives you real part and imaginary part of a complex number.\n",
        "- the original equation is solved numerially by the NumPy solver `np.roots(list)` where `list` is formed by the coefficients of the polynomial, from high to low orders.\n",
        "- List comprehension can also be subject to conditions. Take the example of `[yi for yi in y if yi>0]`, if we write without the `if` part then it's just a copy of $y$. Adding the `if` part we are choosing those positive elements."
      ]
    },
    {
      "cell_type": "markdown",
      "metadata": {
        "id": "8vmXsr90KH1Z"
      },
      "source": [
        "The explicit output of `np.roots()` is (taking $x^5-x+1=0$ as an example)"
      ]
    },
    {
      "cell_type": "code",
      "metadata": {
        "id": "tOA5GM-MKH1Z",
        "colab": {
          "base_uri": "https://localhost:8080/",
          "height": 68
        },
        "outputId": "ece96847-2bf7-4bfc-fb23-20d29d08c3a7"
      },
      "source": [
        "np.roots([1,0,0,0,-1,1])"
      ],
      "execution_count": null,
      "outputs": [
        {
          "output_type": "execute_result",
          "data": {
            "text/plain": [
              "array([-1.16730398+0.j        , -0.18123244+1.0839541j ,\n",
              "       -0.18123244-1.0839541j ,  0.76488443+0.35247155j,\n",
              "        0.76488443-0.35247155j])"
            ]
          },
          "metadata": {
            "tags": []
          },
          "execution_count": 65
        }
      ]
    },
    {
      "cell_type": "markdown",
      "metadata": {
        "id": "aFJQjamjKH1b"
      },
      "source": [
        "From class and the above example in the Sympy section we already know the analytical solutions are:\n",
        "$$y_1=1+\\epsilon+5\\epsilon^2+35\\epsilon^3$$\n",
        "$$y_2=\\left(\\frac{1}{\\epsilon}\\right)^{1/4}$$\n",
        "In python language,"
      ]
    },
    {
      "cell_type": "code",
      "metadata": {
        "id": "vrOk0gpOKH1b"
      },
      "source": [
        "eps_ana=[pow(10,eps) for eps in np.arange(-6,0,0.001)];\n",
        "y1=[1+eps+5*eps**2+35*eps**3 for eps in eps_ana];\n",
        "y2=[(1./eps)**(1/4) for eps in eps_ana];"
      ],
      "execution_count": null,
      "outputs": []
    },
    {
      "cell_type": "markdown",
      "metadata": {
        "id": "MoQs_BbXKH1c"
      },
      "source": [
        "Note that we plot the analytical result up to $\\epsilon=10^0$ to see the crossing. And plot numerical and analytical solutions together,"
      ]
    },
    {
      "cell_type": "code",
      "metadata": {
        "id": "b3UWgnLGKH1c",
        "colab": {
          "base_uri": "https://localhost:8080/",
          "height": 314
        },
        "outputId": "181de4a6-6717-4604-94fc-c59873118ca4"
      },
      "source": [
        "plt.rcParams['font.family']='DejaVu Sans'\n",
        "plt.rcParams['font.size']=16\n",
        "plt.loglog(eps_num,y_pos,linewidth=2,label=\"numerical\");\n",
        "plt.xlabel(\"$\\epsilon$\");\n",
        "plt.ylabel(\"y\");\n",
        "plt.loglog(eps_ana,y1,\"b--\",linewidth=3,label=\"analytical\");\n",
        "plt.loglog(eps_ana,y2,\"k--\",linewidth=3,label=\"analytical\");\n",
        "plt.title(\"Positive real roots of Eq. (2.14)\")\n",
        "plt.legend(bbox_to_anchor=(1.05, 1), loc=2, borderaxespad=0.);\n",
        "plt.savefig('plot1.png',dpi=600,bbox_inches='tight')"
      ],
      "execution_count": null,
      "outputs": [
        {
          "output_type": "display_data",
          "data": {
            "image/png": "[encoded data removed]",
            "text/plain": [
              "<Figure size 432x288 with 1 Axes>"
            ]
          },
          "metadata": {
            "tags": [],
            "needs_background": "light"
          }
        }
      ]
    },
    {
      "cell_type": "markdown",
      "metadata": {
        "id": "fFoqQ0_6KH1d"
      },
      "source": [
        "Then, if you want to see the limiting behavior around $\\epsilon=10^{-6}$ and around the crossing, we can set the limit of the $\\epsilon$ axis"
      ]
    },
    {
      "cell_type": "code",
      "metadata": {
        "id": "KW2nUCWmKH1d",
        "outputId": "c949cb52-82c6-4671-dff3-614c761b4e63"
      },
      "source": [
        "plt.rcParams['font.family']='DejaVu Sans'\n",
        "plt.rcParams['font.size']=16\n",
        "plt.loglog(eps_num,y_pos,linewidth=2,label=\"numerical\");\n",
        "plt.xlabel(\"$\\epsilon$\");\n",
        "plt.ylabel(\"y\");\n",
        "plt.loglog(eps_ana,y1,\"b--\",linewidth=3,label=\"analytical\");\n",
        "plt.loglog(eps_ana,y2,\"k--\",linewidth=3,label=\"analytical\");\n",
        "plt.title(\"Positive real roots of Eq. (2.14)\")\n",
        "plt.legend(bbox_to_anchor=(1.05, 1), loc=2, borderaxespad=0.);\n",
        "plt.xlim(10**-6,10**-4);"
      ],
      "execution_count": null,
      "outputs": [
        {
          "output_type": "display_data",
          "data": {
            "image/png": "[encoded data removed]",
            "text/plain": [
              "<Figure size 432x288 with 1 Axes>"
            ]
          },
          "metadata": {
            "tags": []
          }
        }
      ]
    },
    {
      "cell_type": "markdown",
      "metadata": {
        "id": "xICiG2gIKH1f"
      },
      "source": [
        "We can see that the numerical and analytical solution fits very well, as expected. On the other end, near the crossing of analytical solutions, the numerical solution starts to deviate from the analytical solution.\n",
        "\n",
        "Intuitively, the crossing point is where two \"dominant balance\" meet, so each of them is not a legal dominant balance anymore. That's why the analytical solution is fitting now that well. However, a very nice fact is it still predicts correctly the \"crossing\" behavior!"
      ]
    },
    {
      "cell_type": "code",
      "metadata": {
        "id": "21Vmyc-oKH1g",
        "outputId": "02b642ce-7d52-4089-da31-78713e53f9af"
      },
      "source": [
        "plt.rcParams['font.family']='DejaVu Sans'\n",
        "plt.rcParams['font.size']=16\n",
        "plt.loglog(eps_num,y_pos,linewidth=2,label=\"numerical\");\n",
        "plt.xlabel(\"$\\epsilon$\");\n",
        "plt.ylabel(\"y\");\n",
        "plt.loglog(eps_ana,y1,\"b--\",linewidth=3,label=\"analytical\");\n",
        "plt.loglog(eps_ana,y2,\"k--\",linewidth=3,label=\"analytical\");\n",
        "plt.title(\"Positive real roots of Eq. (2.14)\")\n",
        "plt.legend(bbox_to_anchor=(1.05, 1), loc=2, borderaxespad=0.);\n",
        "plt.xlim(10**-2,10**-0);"
      ],
      "execution_count": null,
      "outputs": [
        {
          "output_type": "display_data",
          "data": {
            "image/png": "[encoded data removed]",
            "text/plain": [
              "<Figure size 432x288 with 1 Axes>"
            ]
          },
          "metadata": {
            "tags": []
          }
        }
      ]
    },
    {
      "cell_type": "markdown",
      "metadata": {
        "id": "6V7HsuYEKH1h"
      },
      "source": [
        "In the end, if you are asking the simplist form of plotting,"
      ]
    },
    {
      "cell_type": "code",
      "metadata": {
        "id": "ylPadvCWKH1h",
        "outputId": "1ea3d1e8-b76a-4e97-be58-c9861d58b80d"
      },
      "source": [
        "t = np.arange(0.0, 2.0, 0.01)\n",
        "s = 1 + np.sin(2 * np.pi * t)\n",
        "plt.plot(t,s);"
      ],
      "execution_count": null,
      "outputs": [
        {
          "output_type": "display_data",
          "data": {
            "image/png": "[encoded data removed]",
            "text/plain": [
              "<Figure size 432x288 with 1 Axes>"
            ]
          },
          "metadata": {
            "tags": []
          }
        }
      ]
    },
    {
      "cell_type": "markdown",
      "metadata": {
        "id": "5-CDhGJaKH1j"
      },
      "source": [
        "### Appendix: Different color boxes provided by online documents. Double click to view codes (reminder: these are Markdown cells)"
      ]
    },
    {
      "cell_type": "markdown",
      "metadata": {
        "id": "HLmz_ELPKH1j"
      },
      "source": [
        "<div class=\"alert alert-block alert-info\">\n",
        "<b>Tip:</b> Use blue boxes (alert-info) for tips and notes. \n",
        "If it’s a note, you don’t have to include the word “Note”.\n",
        "</div>"
      ]
    },
    {
      "cell_type": "markdown",
      "metadata": {
        "id": "catbEHebKH1k"
      },
      "source": [
        "<div class=\"alert alert-block alert-warning\">\n",
        "<b>Example:</b> Use yellow boxes for examples that are not \n",
        "inside code cells, or use for mathematical formulas if needed.\n",
        "</div>"
      ]
    },
    {
      "cell_type": "markdown",
      "metadata": {
        "id": "cfzUxUUkKH1k"
      },
      "source": [
        "<div class=\"alert alert-block alert-success\">\n",
        "<b>Up to you:</b> Use green boxes sparingly, and only for some specific \n",
        "purpose that the other boxes can't cover. For example, if you have a lot \n",
        "of related content to link to, maybe you decide to use green boxes for \n",
        "related links from each section of a notebook.\n",
        "</div>"
      ]
    },
    {
      "cell_type": "markdown",
      "metadata": {
        "id": "H-wC9mxFKH1k"
      },
      "source": [
        "<div class=\"alert alert-block alert-danger\">\n",
        "<b>Just don't:</b> In general, avoid the red boxes. These should only be\n",
        "used for actions that might cause data loss or another major issue.\n",
        "</div>"
      ]
    },
    {
      "cell_type": "code",
      "metadata": {
        "id": "xpt3l2QcKH1k"
      },
      "source": [
        "from scipy.integrate import odeint\n",
        "import matplotlib.pyplot as plt\n",
        "import numpy as np\n",
        "import math\n",
        "def fun56(y,x):\n",
        "    dydt=-x*(math.tan(y)-1)\n",
        "    return dydt"
      ],
      "execution_count": null,
      "outputs": []
    },
    {
      "cell_type": "code",
      "metadata": {
        "id": "wDVGZ42-KH1l"
      },
      "source": [
        "y0 = 15\n",
        "x=np.linspace(0,100,101)"
      ],
      "execution_count": null,
      "outputs": []
    },
    {
      "cell_type": "code",
      "metadata": {
        "id": "goMEOqFYKH1o"
      },
      "source": [
        "sol = odeint(fun56, y0, x)"
      ],
      "execution_count": null,
      "outputs": []
    },
    {
      "cell_type": "code",
      "metadata": {
        "id": "ERbE6TakKH1p",
        "outputId": "67cc902d-173f-40e6-a44d-6b08e9ae9049"
      },
      "source": [
        "graph2=plt\n",
        "graph2.plot(x,sol,'b')\n",
        "graph2.show()"
      ],
      "execution_count": null,
      "outputs": [
        {
          "output_type": "display_data",
          "data": {
            "image/png": "[encoded data removed]",
            "text/plain": [
              "<Figure size 432x288 with 1 Axes>"
            ]
          },
          "metadata": {
            "tags": []
          }
        }
      ]
    },
    {
      "cell_type": "code",
      "metadata": {
        "id": "o0NtxiNoKH1q"
      },
      "source": [],
      "execution_count": null,
      "outputs": []
    },
    {
      "cell_type": "code",
      "metadata": {
        "id": "dzv1xiBwptIV"
      },
      "source": [],
      "execution_count": null,
      "outputs": []
    }
  ]
}