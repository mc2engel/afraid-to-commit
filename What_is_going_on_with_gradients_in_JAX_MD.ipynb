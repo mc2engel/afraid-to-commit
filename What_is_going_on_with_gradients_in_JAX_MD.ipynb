{
  "nbformat": 4,
  "nbformat_minor": 0,
  "metadata": {
    "colab": {
      "provenance": [],
      "collapsed_sections": [],
      "toc_visible": true,
      "machine_shape": "hm",
      "authorship_tag": "ABX9TyMdtAF9gQZ58W6RoGINF4Xm",
      "include_colab_link": true
    },
    "kernelspec": {
      "name": "python3",
      "display_name": "Python 3"
    },
    "language_info": {
      "name": "python"
    },
    "accelerator": "GPU"
  },
  "cells": [
    {
      "cell_type": "markdown",
      "metadata": {
        "id": "view-in-github",
        "colab_type": "text"
      },
      "source": [
        "<a href=\"https://colab.research.google.com/github/mc2engel/afraid-to-commit/blob/master/What_is_going_on_with_gradients_in_JAX_MD.ipynb\" target=\"_parent\"><img src=\"https://colab.research.google.com/assets/colab-badge.svg\" alt=\"Open In Colab\"/></a>"
      ]
    },
    {
      "cell_type": "markdown",
      "source": [
        "#Imports and utils\n"
      ],
      "metadata": {
        "id": "fkhoYOyIsd3t"
      }
    },
    {
      "cell_type": "code",
      "execution_count": null,
      "metadata": {
        "id": "-x2HJBJHsGR6"
      },
      "outputs": [],
      "source": [
        "#%%capture\n",
        "!pip install tfp-nightly[jax]\n",
        "!pip install -U jax-md\n",
        "!pip install -U distrax\n",
        "!pip install -U optax"
      ]
    },
    {
      "cell_type": "code",
      "source": [
        "#import jax.tools.colab_tpu\n",
        "#jax.tools.colab_tpu.setup_tpu()\n",
        "import jax\n",
        "import jax.numpy as jnp\n",
        "import optax\n",
        "from jax import lax\n",
        "from jax import random, jit, vmap, grad, value_and_grad\n",
        "import numpy as np\n",
        "import distrax\n",
        "import tensorflow_probability as tfp\n",
        "from jax.example_libraries import optimizers as jopt\n",
        "import os\n",
        "import functools\n",
        "import pickle\n",
        "\n",
        "import tqdm\n",
        "import time\n",
        "from google.colab import files\n",
        "import numpy as onp\n",
        "\n",
        "import matplotlib.pyplot as plt\n",
        "from matplotlib import animation\n",
        "from matplotlib import rc\n",
        "import pandas as pd\n",
        "import seaborn as sns\n",
        "rc('animation', html='jshtml')\n",
        "\n",
        "#from google.colab import drive\n",
        "#drive.mount('/content/drive')"
      ],
      "metadata": {
        "id": "9fK5Gd4TsaCK"
      },
      "execution_count": 67,
      "outputs": []
    },
    {
      "cell_type": "markdown",
      "source": [
        "# Basic Monte Carlo Simulation\n"
      ],
      "metadata": {
        "id": "H0F-ywWhtYC7"
      }
    },
    {
      "cell_type": "markdown",
      "source": [
        "The crux of an MC simulation is an 'if'-statement decision point where the code adopts one trajectory or another on the basis of a random number draw. To consider how this affects backpropagating through such simulations, consider a minimal MC code example -- the Ferromagnetic Ising model, with Hamiltonian\n",
        "\n",
        "$E = - \\sum_{NN} J_{ij} \\sigma_i\\sigma_j$\n",
        "\n",
        "where the sum is taken over nearest neighbors and there is no external field. We will consider the problem of simply minimizing the energy (which occurs for T=0, but we will at least get an idea of whether our gradients are pointing in the right direction).\n",
        "\n",
        "To minimize the energy, we'll set $J_{ij} = k_B = 1$ and:\n",
        "\n",
        "1. Run $n$ MC simulations of an NxN Ising lattice at temperature $T_{guess}$. Use the Glauber spin flip probability $P = \\frac{e^{-dE/T}}{1 + e^{-dE/T}}$.\n",
        "2. Compute $<E>$ and $\\nabla_T<E>$ over #the batch.\n",
        "3. Perform a step of gradient descent.\n",
        "4. Repeat until desired gradient tolerance is reached.\n",
        "5. See if gradient behaviour makes sense.\n",
        "\n"
      ],
      "metadata": {
        "id": "BJF7bhmutb8p"
      }
    },
    {
      "cell_type": "code",
      "source": [
        "@jit\n",
        "def periodic_lattice(index, s):\n",
        "    \"\"\"returns periodic lattice index \n",
        "    for a given iterable index\"\"\"\n",
        "    return (index%s + s)%s\n",
        "\n",
        "\n",
        "@jit\n",
        "def choose_spin(key, N):\n",
        "  uni=distrax.Uniform(low=0.0, high=N**2)\n",
        "  spin=jnp.floor(uni.sample(seed=key)).astype(int)\n",
        "  #return jax.random.randint(key, [], 0, N**2)\n",
        "  return spin\n",
        "\n",
        "@jit\n",
        "def sum_neighbors(spins: jnp.array) -> jnp.array:\n",
        "  \"\"\"Sum over the neighbors of each point in a periodic grid.\"\"\"\n",
        "  ndim = spins.ndim\n",
        "  rolled = []\n",
        "  for axis in range(ndim):\n",
        "    for shift in [-1, 1]:\n",
        "      rolled.append(jnp.roll(spins, shift, axis))\n",
        "  return sum(rolled)\n",
        "\n",
        "@jit\n",
        "def lattice_energy(spins: jnp.array) -> jnp.float64:\n",
        "  \"\"\"return lattice energy.\"\"\"\n",
        "  return 0.5*jnp.sum(-1 * spins * sum_neighbors(spins))\n",
        "\n",
        "def simulate_MC(key, T, N, steps):\n",
        "  def _step(lattice_, key):\n",
        "    key, split = jax.random.split(key, 2)\n",
        "    k = choose_spin(key, N)\n",
        "    spinval = lattice_[periodic_lattice(jnp.floor(k/N).astype(int),N)][periodic_lattice(k%N-1,N)]\n",
        "    dE = 2. * spinval * sum_neighbors(lattice_)[periodic_lattice(jnp.floor(k/N).astype(int),N)][periodic_lattice(k%N-1,N)]\n",
        "    prob = jnp.exp(-(1.0/T)*dE)/(1+jnp.exp(-(1.0/T)*dE)) #glauber spin flip probability\n",
        "    flip_dist = distrax.Bernoulli(probs=prob)\n",
        "    flip = flip_dist.sample(seed=split)\n",
        "    lattice_ = lattice_.at[periodic_lattice(jnp.floor(k/N).astype(int),N),periodic_lattice(k%N-1,N)].set((1.-2.*flip)*spinval)\n",
        "    dE = flip*dE\n",
        "    return lattice_, flip\n",
        "  key, split, = jax.random.split(key, 2)\n",
        "  init_lattice = jax.random.randint(key, (N, N), 0, 2)*2-1\n",
        "  seeds = jax.random.split(split, steps)\n",
        "  #final_state, dEs = jax.lax.scan(_step, lattice, seeds)\n",
        "  return jax.lax.scan(_step, init_lattice, seeds)\n"
      ],
      "metadata": {
        "id": "77CPDmL13Bfj"
      },
      "execution_count": 7,
      "outputs": []
    },
    {
      "cell_type": "code",
      "source": [
        "def setup_loss(key, N, steps, batch):\n",
        "  def loss(T):\n",
        "      mapped_sim = vmap(simulate_MC, [0, None, None, None])\n",
        "      mapped_energy = vmap(lattice_energy, [0])\n",
        "      seeds = random.split(key, batch)\n",
        "      results, _ = mapped_sim(seeds, T, N, steps)\n",
        "      energies = mapped_energy(results)\n",
        "      return jnp.mean(energies)\n",
        "  return loss\n",
        "\n",
        "\n",
        "\n",
        "def get_train_step(optimizer,\n",
        "                   lattice_size: int,\n",
        "                   batch_size: int,\n",
        "                   time_steps: int,\n",
        "                   loss_function):\n",
        "    @jax.jit\n",
        "    def train_step(state, j):\n",
        "        Eavg, gradE = value_and_grad(loss_function)(T)\n",
        "        opt_state = optimizer.update_fn(j, gradE, state)\n",
        "        return opt_state, (Eavg, gradE)\n",
        "    return train_step\n",
        "\n",
        "key = random.PRNGKey(0)\n",
        "N=8 #lattice size\n",
        "T = 150.\n",
        "steps = 10*N**2\n",
        "training_steps = 10\n",
        "batch = 10\n",
        "optimizer = jopt.adam(.01)\n",
        "init_state = optimizer.init_fn(T)\n",
        "\n",
        "loss = setup_loss(key, N, steps, batch)\n",
        "update_fn = get_train_step(optimizer, N, batch, steps, loss)\n",
        "state = optimizer.init_fn(T)\n",
        "grads = []\n",
        "Es = []\n",
        "for j in tqdm.trange(training_steps, position=0):\n",
        "  key, split = random.split(key, 2)\n",
        "  state, (E, gradE) = update(state, j)\n",
        "  Es.append(E)\n",
        "  grads.append(gradE)"
      ],
      "metadata": {
        "colab": {
          "base_uri": "https://localhost:8080/"
        },
        "id": "VSxWcNXSCe5s",
        "outputId": "4b060178-7057-40ed-918e-f6668260b5d8"
      },
      "execution_count": 18,
      "outputs": [
        {
          "output_type": "stream",
          "name": "stderr",
          "text": [
            "\r  0%|          | 0/10 [00:00<?, ?it/s]/usr/local/lib/python3.7/dist-packages/distrax/_src/utils/conversion.py:143: UserWarning: Explicitly requested dtype <class 'jax.numpy.float64'> requested in astype is not available, and will be truncated to dtype float32. To enable more dtypes, set the jax_enable_x64 configuration option or the JAX_ENABLE_X64 shell environment variable. See https://github.com/google/jax#current-gotchas for more.\n",
            "  return x.astype(jnp.float_)\n",
            "/usr/local/lib/python3.7/dist-packages/jax/_src/ops/scatter.py:90: FutureWarning: scatter inputs have incompatible types: cannot safely cast value from dtype=float32 to dtype=int32. In future JAX releases this will result in an error.\n",
            "  FutureWarning)\n",
            "100%|██████████| 10/10 [00:02<00:00,  3.87it/s]\n"
          ]
        }
      ]
    },
    {
      "cell_type": "code",
      "source": [
        "plt.title(\"Gradients if grad() is used directly:\")\n",
        "plt.plot(grads)"
      ],
      "metadata": {
        "colab": {
          "base_uri": "https://localhost:8080/",
          "height": 298
        },
        "id": "LW9qQQyFttUC",
        "outputId": "b7574c3f-df21-4bee-daa6-f911e2c18b9b"
      },
      "execution_count": 19,
      "outputs": [
        {
          "output_type": "execute_result",
          "data": {
            "text/plain": [
              "[<matplotlib.lines.Line2D at 0x7f354e64c510>]"
            ]
          },
          "metadata": {},
          "execution_count": 19
        },
        {
          "output_type": "display_data",
          "data": {
            "text/plain": [
              "<Figure size 432x288 with 1 Axes>"
            ],
            "image/png": "[encoded data removed]"
          },
          "metadata": {
            "needs_background": "light"
          }
        }
      ]
    },
    {
      "cell_type": "markdown",
      "source": [
        "Okay, so the gradients are identically 0! This reveals the problem with grad() + MC simulations: we *know* that E depends on T, but the dependence doesn't enter explicitly: it enters through the spin flip probability p(T). \n",
        "\n",
        "The *correct* way to deal with gradients in cases like this is as follows:\n",
        "\n",
        "\\begin{equation}\n",
        "    \\langle E\\rangle = \\int \\mathcal{D}{x}(t) p[{x}(t), {T}] E[{x}(t)]\n",
        "\\end{equation}\n",
        "\n",
        "Where $\\langle E({T})\\rangle$ is the average energy at temperature T, $\\int\\mathcal{D}{x}(t)$ is an intergral over every possibly simulation trajectory, $p[{x}(t), {T}]$ is the probability of one particular simulation realization ${x}(t)$ at temperature $T$, and $E[{x}(t)]$ is the energy of that particular simulation realization.\n",
        "\n",
        "We seek $\\nabla_T \\langle E({T})\\rangle$. To get it, bring the gradient inside the integral and use the product rule:\n",
        "\n",
        "\\begin{equation}\n",
        "    \\nabla_{T} \\langle E({T})\\rangle = \\int \\mathcal{D}{x}(t) (\\nabla_{{T}} p) E + p (\\nabla_{{T}} E) \\\\\n",
        "    = \\int \\mathcal{D}{x}(t) (p \\nabla_{{T}} \\ln p) E + p (\\nabla_{{T}} E) \\\\\n",
        "    = \\langle (\\nabla_{{T}} \\ln p) E \\rangle + \\langle \\nabla_{{T}} E \\rangle\n",
        "\\end{equation}\n",
        "\n",
        "The latter term, $\\nabla_{{T}} E $, is 0, as we've just seen: the energy has no explicit dependence on temperature. So, we need to compute $\\nabla_{{T}} \\ln p$ for each trajectory and then perform an ensemble average.\n"
      ],
      "metadata": {
        "id": "acIYtczawrYJ"
      }
    },
    {
      "cell_type": "code",
      "source": [
        "#modify the simulation function to also return the log prob of a particular simulation trajectory, then average over many gradient estimates:\n",
        "\n",
        "def simulate_MC_lnp(T, N, steps, key):\n",
        "  def _step(lattice_, key):\n",
        "    key, split = jax.random.split(key, 2)\n",
        "    k = choose_spin(key, N)\n",
        "    spinval = lattice_[periodic_lattice(jnp.floor(k/N).astype(int),N)][periodic_lattice(k%N-1,N)]\n",
        "    dE = 2. * spinval * sum_neighbors(lattice_)[periodic_lattice(jnp.floor(k/N).astype(int),N)][periodic_lattice(k%N-1,N)]\n",
        "    prob = jnp.exp(-(1.0/T)*dE)/(1+jnp.exp(-(1.0/T)*dE))\n",
        "    flip_dist = distrax.Bernoulli(probs=prob)\n",
        "    flip = flip_dist.sample(seed=split)\n",
        "    logprob = flip_dist.log_prob(flip)\n",
        "    lattice_ = lattice_.at[periodic_lattice(jnp.floor(k/N).astype(int),N),periodic_lattice(k%N-1,N)].set((1.-2.*flip)*spinval)\n",
        "    dE = flip*dE\n",
        "    return lattice_, logprob\n",
        "  key, split, = jax.random.split(key, 2)\n",
        "  init_lattice = jax.random.randint(key, (N, N), 0, 2)*2-1\n",
        "  seeds = jax.random.split(split, steps)\n",
        "  #final_state, dEs = jax.lax.scan(_step, lattice, seeds)\n",
        "  return jax.lax.scan(_step, init_lattice, seeds)\n",
        "\n",
        "def estimate_gradient(loss_function):\n",
        "  \"\"\"Estimates gradients using reverse-mode differentiation.\n",
        "  This is faster than `estimate_gradient_fwd` but consumes much more memory.\n",
        "  \"\"\"\n",
        "  @functools.partial(grad, has_aux=True)\n",
        "  def _estimate_gradient(T,\n",
        "                         N: int,\n",
        "                         simlength: int,\n",
        "                         seed: jnp.array):\n",
        "    final_lattice, logprob = simulate_MC_lnp(T, N, steps, seed)\n",
        "    trajectory_log_prob = logprob.sum()\n",
        "    loss = loss_function(final_lattice)\n",
        "    gradient_estimator = trajectory_log_prob * jax.lax.stop_gradient(loss) + loss #we don't really need the second term, since we've seen the grad is 0\n",
        "    return gradient_estimator, loss#trajectory_log_prob\n",
        "  return _estimate_gradient\n",
        "\n",
        "def get_train_step_lnp(optimizer: jopt.Optimizer,\n",
        "                   lattice_size: int,\n",
        "                   batch_size: int,\n",
        "                   time_steps: int,\n",
        "                   loss_function):\n",
        "  gradient_estimator = estimate_gradient(loss_function)\n",
        "  mapped_gradient_estimate = vmap(gradient_estimator, [None, None, None, 0])\n",
        "  @jax.jit\n",
        "  def _train_step(state, j, seed):\n",
        "    seeds = jax.random.split(seed, batch_size)\n",
        "    T = optimizer.params_fn(state)\n",
        "    grads, Eavg = mapped_gradient_estimate(T, N, time_steps, seeds)\n",
        "    mean_grad = jax.tree_map(lambda x: jnp.mean(x, 0), grads)\n",
        "    opt_state = optimizer.update_fn(j, mean_grad, state)\n",
        "    return opt_state, (Eavg.sum(), mean_grad)\n",
        "  return _train_step"
      ],
      "metadata": {
        "id": "086riGQqyVvR"
      },
      "execution_count": 20,
      "outputs": []
    },
    {
      "cell_type": "code",
      "source": [
        "key = random.PRNGKey(0)\n",
        "N = 8 #lattice size\n",
        "T = 10.\n",
        "steps = 100*N**2\n",
        "training_steps = 50\n",
        "batch = 1000\n",
        "#lr = jopt.exponential_decay(0.1, training_steps, .01)\n",
        "lr=0.1\n",
        "optimizer = jopt.adam(lr)\n",
        "init_state = optimizer.init_fn(T)\n",
        "\n",
        "update = get_train_step_lnp(optimizer, N, batch, steps, lattice_energy)\n",
        "state = optimizer.init_fn(T)\n",
        "grads = []\n",
        "Es = []\n",
        "states=[]\n",
        "for j in tqdm.trange(training_steps, position=0):\n",
        "  key, split = random.split(key, 2)\n",
        "  state, (E, gradE) = update(state, j, key)\n",
        "  Es.append(E)\n",
        "  grads.append(gradE)\n",
        "  states.append(optimizer.params_fn(state))"
      ],
      "metadata": {
        "colab": {
          "base_uri": "https://localhost:8080/"
        },
        "id": "sP8aeUwaFrMG",
        "outputId": "b61173f6-7d3f-4ccc-e593-66a4907933f4"
      },
      "execution_count": 23,
      "outputs": [
        {
          "output_type": "stream",
          "name": "stderr",
          "text": [
            "100%|██████████| 50/50 [00:30<00:00,  1.65it/s]\n"
          ]
        }
      ]
    },
    {
      "cell_type": "markdown",
      "source": [
        "This yields nonzero gradients:"
      ],
      "metadata": {
        "id": "By78gfVq8rzK"
      }
    },
    {
      "cell_type": "code",
      "source": [
        "plt.title(\"Gradients if lnp is used\")\n",
        "#print(Es)\n",
        "plt.plot(grads, 'o-', label='grads')\n",
        "#plt.plot(Es, 'o',label='energies')\n",
        "plt.legend()\n",
        "\n",
        "print(np.mean(grads[0:20]))"
      ],
      "metadata": {
        "colab": {
          "base_uri": "https://localhost:8080/",
          "height": 299
        },
        "id": "_Xle6UoL-Ayb",
        "outputId": "d8a886bf-da38-4496-a4a4-b701571f2f28"
      },
      "execution_count": null,
      "outputs": [
        {
          "output_type": "stream",
          "name": "stdout",
          "text": [
            "1.6562847\n"
          ]
        },
        {
          "output_type": "display_data",
          "data": {
            "text/plain": [
              "<Figure size 432x288 with 1 Axes>"
            ],
            "image/png": "[encoded data removed]"
          },
          "metadata": {
            "needs_background": "light"
          }
        }
      ]
    },
    {
      "cell_type": "markdown",
      "source": [
        "And we can confirm that the temperature is being driven in the correct direction:"
      ],
      "metadata": {
        "id": "H-0HLVNk8kkq"
      }
    },
    {
      "cell_type": "code",
      "source": [
        "plt.plot(states, 'o')"
      ],
      "metadata": {
        "colab": {
          "base_uri": "https://localhost:8080/",
          "height": 283
        },
        "id": "hNU5-a2If3Ez",
        "outputId": "565f42e0-5608-4f0a-c2be-2c52fc08e737"
      },
      "execution_count": null,
      "outputs": [
        {
          "output_type": "execute_result",
          "data": {
            "text/plain": [
              "[<matplotlib.lines.Line2D at 0x7fa681a0cf50>]"
            ]
          },
          "metadata": {},
          "execution_count": 26
        },
        {
          "output_type": "display_data",
          "data": {
            "text/plain": [
              "<Figure size 432x288 with 1 Axes>"
            ],
            "image/png": "[encoded data removed]"
          },
          "metadata": {
            "needs_background": "light"
          }
        }
      ]
    },
    {
      "cell_type": "markdown",
      "source": [
        "#Brownian dynamics simulation"
      ],
      "metadata": {
        "id": "mwTEWOKd88--"
      }
    },
    {
      "cell_type": "markdown",
      "source": [],
      "metadata": {
        "id": "1tgaE7dn9Acn"
      }
    },
    {
      "cell_type": "code",
      "source": [
        "import jax_md as jmd\n",
        "import collections \n",
        "from tensorflow_probability.substrates import jax as tfp\n",
        "from functools import partial\n",
        "\n",
        "tfd = tfp.distributions\n",
        "\n",
        "class BrownianState(collections.namedtuple('BrownianState',\n",
        "                                           'position mass rng log_prob')):\n",
        "  pass\n",
        "\n",
        "def brownian(energy_or_force,\n",
        "             shift,\n",
        "             dt,\n",
        "             kT,\n",
        "             gamma=0.1):\n",
        "  \"\"\"Simulation of Brownian dynamics.\n",
        "  This code simulates Brownian dynamics which are synonymous with the overdamped\n",
        "  regime of Langevin dynamics. However, in this case we don't need to take into\n",
        "  account velocity information and the dynamics simplify. Consequently, when\n",
        "  Brownian dynamics can be used they will be faster than Langevin. As in the\n",
        "  case of Langevin dynamics our implementation follows [1].\n",
        "  Args:\n",
        "    energy_or_force: A function that produces either an energy or a force from\n",
        "      a set of particle positions specified as an ndarray of shape\n",
        "      [n, spatial_dimension].\n",
        "    shift_fn: A function that displaces positions, R, by an amount dR. Both R\n",
        "      and dR should be ndarrays of shape [n, spatial_dimension].\n",
        "    dt: Floating point number specifying the timescale (step size) of the\n",
        "      simulation.\n",
        "    T_schedule: Either a floating point number specifying a constant temperature\n",
        "      or a function specifying temperature as a function of time.\n",
        "    quant: Either a quantity.Energy or a quantity.Force specifying whether\n",
        "      energy_or_force is an energy or force respectively.\n",
        "    gamma: A float specifying the friction coefficient between the particles\n",
        "      and the solvent.\n",
        "  Returns:\n",
        "    See above.\n",
        "    [1] E. Carlon, M. Laleman, S. Nomidis. \"Molecular Dynamics Simulation.\"\n",
        "        http://itf.fys.kuleuven.be/~enrico/Teaching/molecular_dynamics_2015.pdf\n",
        "        Accessed on 06/05/2019.\n",
        "  \"\"\"\n",
        "\n",
        "  force_fn = jmd.quantity.canonicalize_force(energy_or_force)\n",
        "\n",
        "  #dt, gamma = jmd.util.static_cast(dt, gamma)\n",
        "\n",
        "  T_schedule = jmd.interpolate.canonicalize(kT)\n",
        "\n",
        "  def _dist(state, t, **kwargs):\n",
        "    nu = jnp.float32(1) / (state.mass * gamma)\n",
        "    F = force_fn(state.position, t=t, **kwargs)\n",
        "    mean =  F * nu * dt\n",
        "    variance = jnp.float32(2) * T_schedule(t) * dt * nu\n",
        "    return tfd.Normal(mean, jnp.sqrt(variance))\n",
        "  \n",
        "  def init_fn(key, R, mass=jnp.float32(1)):\n",
        "    #mass = jmd.quantity.canonicalize_mass(mass)\n",
        "    return BrownianState(R, mass, key, 0.)\n",
        "\n",
        "  def apply_fn(state, t=jnp.float32(0), **kwargs):\n",
        "    dist = _dist(state, t, **kwargs)\n",
        "    key, split = jax.random.split(state.rng)\n",
        "\n",
        "    # We have to stop gradients here, otherwise the gradient with respect to\n",
        "    # energy/force is zero. The following is a simple repro of the issue:\n",
        "    #  def sample_log_prob(mean, key):\n",
        "    #    d = tfd.Normal(mean, 1.)\n",
        "    #    s = d.sample(seed=key)\n",
        "    #    return d.log_prob(s)\n",
        "    #  jax.grad(sample_log_prob)(0., key)  # Always 0 !\n",
        "    dR = jax.lax.stop_gradient(dist.sample(seed=split))\n",
        "\n",
        "    log_prob = dist.log_prob(dR).sum()\n",
        "    R = shift(state.position, dR, t=t, **kwargs)\n",
        "    return BrownianState(R, state.mass, key, log_prob)\n",
        "\n",
        "  return init_fn, apply_fn\n",
        "\n",
        "\n",
        "def run_simulation(kT, energy_fn, init_position, shift, key, simulation_steps, dt=1e-5, mass=1.0, gamma=0.1):\n",
        "  @jit\n",
        "  def scan_fn(state, step):\n",
        "      state = apply(state, step)\n",
        "      return state, (state.position, state.log_prob, energy_fn(state.position))\n",
        "\n",
        "  key, split = random.split(key)  \n",
        "\n",
        "  init, apply = brownian(energy_fn, shift, dt=dt, kT=kT, gamma=gamma)\n",
        "  apply = jit(apply)\n",
        "\n",
        "  init_state = init(split, init_position, mass=mass)\n",
        "  state=init_state\n",
        "  state, (positions, log_probs, energy) = lax.scan(scan_fn,state,(jnp.arange(simulation_steps-1)+1))\n",
        "  return positions, log_probs, jnp.mean(energy)"
      ],
      "metadata": {
        "id": "cAadauhWjqAO"
      },
      "execution_count": 69,
      "outputs": []
    },
    {
      "cell_type": "markdown",
      "source": [
        "#gradients the \"normal\" way:"
      ],
      "metadata": {
        "id": "6rwrGjCRktne"
      }
    },
    {
      "cell_type": "code",
      "source": [
        "def single_estimate(energy_fn, init_position, shift, simulation_steps, dt):\n",
        "  @functools.partial(jax.value_and_grad, has_aux=False)#the 'aux' is the summary\n",
        "  def _single_estimate(kT, seed): #function only of the params to be differentiated w.r.t.\n",
        "      positions, log_probs, energy = run_simulation(kT, energy_fn, init_position, shift, seed, simulation_steps, dt)\n",
        "      tot_log_prob = log_probs.sum()\n",
        "      #gradient_estimator = (tot_log_prob * jax.lax.stop_gradient(energy) + energy) \n",
        "      gradient_estimator = energy\n",
        "      return gradient_estimator\n",
        "  return _single_estimate\n",
        "\n",
        "def estimate_gradient(batch_size, energy_fn, init_position, shift, simulation_steps, dt):\n",
        "    mapped_estimate = jax.vmap(single_estimate(energy_fn, init_position, shift, simulation_steps, dt), [None, 0])  \n",
        "    @jax.jit\n",
        "    def _estimate_gradient(kT, seed):\n",
        "      seeds = jax.random.split(seed, batch_size)\n",
        "      gradient_estimator, grad = mapped_estimate(kT, seeds)\n",
        "      return jnp.mean(grad, axis=0), gradient_estimator\n",
        "    return _estimate_gradient"
      ],
      "metadata": {
        "id": "RoFzaNlyk5JP"
      },
      "execution_count": 109,
      "outputs": []
    },
    {
      "cell_type": "code",
      "source": [
        "key = random.PRNGKey(0)\n",
        "particle_count = 128\n",
        "dim = 3\n",
        "dt = 1e-5\n",
        "kT = 1.\n",
        "density = 1.2\n",
        "box_size = jmd.quantity.box_size_at_number_density(particle_count, density, dim)\n",
        "batch_size = 1000\n",
        "simulation_steps = 100\n",
        "dt = 1e-6\n",
        "init_position=0.*jnp.ones((N,dim))\n",
        "opt_steps = 100\n",
        "displacement, shift = jmd.space.periodic(box_size)\n",
        "#energy_fn = jmd.energy.soft_sphere_pair(displacement, alpha=3)\n",
        "energy_fn = jmd.energy.morse_pair(displacement, alpha=2, epsilon=1)\n",
        "\n",
        "\n",
        "grad_fxn = estimate_gradient(batch_size, energy_fn, init_position, shift, simulation_steps, dt)\n",
        "opt_state = optimizer.init_fn(kT)\n",
        "av_energies = []\n",
        "Ts = []\n",
        "grads = []\n",
        "for j in tqdm.trange(opt_steps,position=0):\n",
        "          key, splitoon = random.split(key, 2)\n",
        "          #run optimization on #batch_size sims:\n",
        "          grad, energies = grad_fxn(optimizer.params_fn(opt_state), splitoon)\n",
        "          opt_state = optimizer.update_fn(j, grad, opt_state)\n",
        "          av_energies.append(energies)\n",
        "          grads.append(grad)\n",
        "          Ts.append(optimizer.params_fn(opt_state))\n",
        "            "
      ],
      "metadata": {
        "colab": {
          "base_uri": "https://localhost:8080/"
        },
        "id": "9KM2A08LlGUt",
        "outputId": "bc132212-3af7-4689-a24a-c9c6a0392091"
      },
      "execution_count": 110,
      "outputs": [
        {
          "output_type": "stream",
          "name": "stderr",
          "text": [
            "\r  0%|          | 0/100 [00:00<?, ?it/s]/usr/local/lib/python3.7/dist-packages/jax/_src/numpy/reductions.py:168: UserWarning: Explicitly requested dtype <class 'jax.numpy.float64'> requested in sum is not available, and will be truncated to dtype float32. To enable more dtypes, set the jax_enable_x64 configuration option or the JAX_ENABLE_X64 shell environment variable. See https://github.com/google/jax#current-gotchas for more.\n",
            "  initial=initial, where_=where, parallel_reduce=lax.psum)\n",
            "100%|██████████| 100/100 [00:04<00:00, 23.50it/s]\n"
          ]
        }
      ]
    },
    {
      "cell_type": "code",
      "source": [
        "plt.plot(Ts, 'o')"
      ],
      "metadata": {
        "colab": {
          "base_uri": "https://localhost:8080/",
          "height": 282
        },
        "id": "Odvhhf7dqLZL",
        "outputId": "421ffe50-3a18-4d9e-cddd-ff2c9854b8a3"
      },
      "execution_count": 108,
      "outputs": [
        {
          "output_type": "execute_result",
          "data": {
            "text/plain": [
              "[<matplotlib.lines.Line2D at 0x7f31f09d7110>]"
            ]
          },
          "metadata": {},
          "execution_count": 108
        },
        {
          "output_type": "display_data",
          "data": {
            "text/plain": [
              "<Figure size 432x288 with 1 Axes>"
            ],
            "image/png": "[encoded data removed]"
          },
          "metadata": {
            "needs_background": "light"
          }
        }
      ]
    },
    {
      "cell_type": "code",
      "source": [
        "plt.plot(grads)"
      ],
      "metadata": {
        "colab": {
          "base_uri": "https://localhost:8080/",
          "height": 282
        },
        "id": "ZSBrhaT0qR1y",
        "outputId": "f69fcaa3-9001-416c-9af5-beb191166798"
      },
      "execution_count": 111,
      "outputs": [
        {
          "output_type": "execute_result",
          "data": {
            "text/plain": [
              "[<matplotlib.lines.Line2D at 0x7f31f0969cd0>]"
            ]
          },
          "metadata": {},
          "execution_count": 111
        },
        {
          "output_type": "display_data",
          "data": {
            "text/plain": [
              "<Figure size 432x288 with 1 Axes>"
            ],
            "image/png": "[encoded data removed]"
          },
          "metadata": {
            "needs_background": "light"
          }
        }
      ]
    },
    {
      "cell_type": "code",
      "source": [
        "plt.plot(jnp.mean(jnp.array(av_energies), axis=1))"
      ],
      "metadata": {
        "colab": {
          "base_uri": "https://localhost:8080/",
          "height": 293
        },
        "id": "hXvG9bTbqWH5",
        "outputId": "d84612cd-3dfe-4950-8304-4d16432b4d7d"
      },
      "execution_count": 107,
      "outputs": [
        {
          "output_type": "execute_result",
          "data": {
            "text/plain": [
              "[<matplotlib.lines.Line2D at 0x7f31f0809350>]"
            ]
          },
          "metadata": {},
          "execution_count": 107
        },
        {
          "output_type": "display_data",
          "data": {
            "text/plain": [
              "<Figure size 432x288 with 1 Axes>"
            ],
            "image/png": "[encoded data removed]"
          },
          "metadata": {
            "needs_background": "light"
          }
        }
      ]
    }
  ]
}